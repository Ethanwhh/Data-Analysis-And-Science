{
 "cells": [
  {
   "cell_type": "markdown",
   "metadata": {},
   "source": [
    "# 优化器"
   ]
  },
  {
   "cell_type": "markdown",
   "metadata": {},
   "source": [
    "SciPy 的 optimize 模块提供了常用的最优化算法函数实现，我们可以直接调用这些函数完成我们的优化问题，比如查找函数的最小值或方程的根等。"
   ]
  },
  {
   "cell_type": "markdown",
   "metadata": {},
   "source": [
    "NumPy 能够找到多项式和线性方程的根，但它无法找到非线性方程的根。\n",
    "\n",
    "因此我们可以使用 SciPy 的 optimze.root 函数，这个函数需要两个参数：\n",
    "\n",
    "fun - 表示方程的函数。\n",
    "\n",
    "x0 - 根的初始猜测。\n",
    "\n",
    "该函数返回一个对象，其中包含有关解决方案的信息。"
   ]
  },
  {
   "cell_type": "markdown",
   "metadata": {},
   "source": [
    "查找 x + cos(x) 方程的根:"
   ]
  },
  {
   "cell_type": "code",
   "execution_count": 2,
   "metadata": {},
   "outputs": [
    {
     "name": "stdout",
     "output_type": "stream",
     "text": [
      "[-0.73908513]\n",
      "    fjac: array([[-1.]])\n",
      "     fun: array([0.])\n",
      " message: 'The solution converged.'\n",
      "    nfev: 9\n",
      "     qtf: array([-2.66786593e-13])\n",
      "       r: array([-1.67361202])\n",
      "  status: 1\n",
      " success: True\n",
      "       x: array([-0.73908513])\n"
     ]
    }
   ],
   "source": [
    "from scipy.optimize import root\n",
    "from math import cos\n",
    "\n",
    "def eqn(x):\n",
    "  return x + cos(x)\n",
    "\n",
    "myroot = root(eqn, 0)\n",
    "\n",
    "print(myroot.x)\n",
    "# 查看更多信息\n",
    "print(myroot)"
   ]
  },
  {
   "cell_type": "markdown",
   "metadata": {},
   "source": [
    "**最小化函数**"
   ]
  },
  {
   "cell_type": "markdown",
   "metadata": {},
   "source": [
    "函数表示一条曲线，曲线有高点和低点。\n",
    "\n",
    "高点称为最大值。\n",
    "\n",
    "低点称为最小值。\n",
    "\n",
    "整条曲线中的最高点称为全局最大值，其余部分称为局部最大值。\n",
    "\n",
    "整条曲线的最低点称为全局最小值，其余的称为局部最小值。\n",
    "\n",
    "可以使用 scipy.optimize.minimize() 函数来最小化函数。\n",
    "\n",
    "minimize() 函接受以下几个参数：\n",
    "\n",
    "- fun - 要优化的函数。\n",
    "\n",
    "- x0 - 初始猜测值。\n",
    "\n",
    "- method - 要使用的方法名称，值可以是：'CG'，'BFGS'，'Newton-CG'，'L-BFGS-B'，'TNC'，'COBYLA'，，'SLSQP'。\n",
    "\n",
    "- callback - 每次优化迭代后调用的函数。\n",
    "\n",
    "- options - 定义其他参数的字典。"
   ]
  },
  {
   "cell_type": "markdown",
   "metadata": {},
   "source": [
    "x^2 + x + 2 使用 BFGS 的最小化函数:"
   ]
  },
  {
   "cell_type": "code",
   "execution_count": 3,
   "metadata": {},
   "outputs": [
    {
     "name": "stdout",
     "output_type": "stream",
     "text": [
      "      fun: 1.75\n",
      " hess_inv: array([[0.50000001]])\n",
      "      jac: array([0.])\n",
      "  message: 'Optimization terminated successfully.'\n",
      "     nfev: 8\n",
      "      nit: 2\n",
      "     njev: 4\n",
      "   status: 0\n",
      "  success: True\n",
      "        x: array([-0.50000001])\n"
     ]
    }
   ],
   "source": [
    "from scipy.optimize import minimize\n",
    "\n",
    "\n",
    "def eqn(x):\n",
    "    return x**2 + x + 2\n",
    "\n",
    "\n",
    "mymin = minimize(eqn, 0, method=\"BFGS\")\n",
    "\n",
    "print(mymin)"
   ]
  }
 ],
 "metadata": {
  "kernelspec": {
   "display_name": "dl",
   "language": "python",
   "name": "python3"
  },
  "language_info": {
   "codemirror_mode": {
    "name": "ipython",
    "version": 3
   },
   "file_extension": ".py",
   "mimetype": "text/x-python",
   "name": "python",
   "nbconvert_exporter": "python",
   "pygments_lexer": "ipython3",
   "version": "3.8.18"
  }
 },
 "nbformat": 4,
 "nbformat_minor": 2
}
