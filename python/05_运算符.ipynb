{
 "cells": [
  {
   "cell_type": "markdown",
   "metadata": {},
   "source": [
    "# 运算符"
   ]
  },
  {
   "cell_type": "markdown",
   "metadata": {},
   "source": [
    "## 算术运算符"
   ]
  },
  {
   "cell_type": "code",
   "execution_count": 1,
   "metadata": {},
   "outputs": [
    {
     "name": "stdout",
     "output_type": "stream",
     "text": [
      "1 - c 的值为： 31\n",
      "2 - c 的值为： 11\n",
      "3 - c 的值为： 210\n",
      "4 - c 的值为： 2.1\n",
      "5 - c 的值为： 1\n",
      "6 - c 的值为： 8\n",
      "7 - c 的值为： 2\n"
     ]
    }
   ],
   "source": [
    "a = 21\n",
    "b = 10\n",
    "c = 0\n",
    " \n",
    "c = a + b\n",
    "print (\"1 - c 的值为：\", c)\n",
    " \n",
    "c = a - b\n",
    "print (\"2 - c 的值为：\", c)\n",
    " \n",
    "c = a * b\n",
    "print (\"3 - c 的值为：\", c)\n",
    " \n",
    "c = a / b\n",
    "print (\"4 - c 的值为：\", c)\n",
    " \n",
    "c = a % b\n",
    "print (\"5 - c 的值为：\", c)\n",
    " \n",
    "# 修改变量 a 、b 、c\n",
    "a = 2\n",
    "b = 3\n",
    "c = a**b \n",
    "print (\"6 - c 的值为：\", c)\n",
    " \n",
    "a = 10\n",
    "b = 5\n",
    "c = a//b \n",
    "print (\"7 - c 的值为：\", c)"
   ]
  },
  {
   "cell_type": "markdown",
   "metadata": {},
   "source": [
    "## 比较运算符"
   ]
  },
  {
   "cell_type": "code",
   "execution_count": 2,
   "metadata": {},
   "outputs": [
    {
     "name": "stdout",
     "output_type": "stream",
     "text": [
      "1 - a 不等于 b\n",
      "2 - a 不等于 b\n",
      "3 - a 大于等于 b\n",
      "4 - a 大于 b\n",
      "5 - a 小于等于 b\n",
      "6 - b 大于等于 a\n"
     ]
    }
   ],
   "source": [
    "a = 21\n",
    "b = 10\n",
    "c = 0\n",
    "\n",
    "if a == b:\n",
    "    print(\"1 - a 等于 b\")\n",
    "else:\n",
    "    print(\"1 - a 不等于 b\")\n",
    "\n",
    "if a != b:\n",
    "    print(\"2 - a 不等于 b\")\n",
    "else:\n",
    "    print(\"2 - a 等于 b\")\n",
    "\n",
    "if a < b:\n",
    "    print(\"3 - a 小于 b\")\n",
    "else:\n",
    "    print(\"3 - a 大于等于 b\")\n",
    "\n",
    "if a > b:\n",
    "    print(\"4 - a 大于 b\")\n",
    "else:\n",
    "    print(\"4 - a 小于等于 b\")\n",
    "\n",
    "# 修改变量 a 和 b 的值\n",
    "a = 5\n",
    "b = 20\n",
    "if a <= b:\n",
    "    print(\"5 - a 小于等于 b\")\n",
    "else:\n",
    "    print(\"5 - a 大于  b\")\n",
    "\n",
    "if b >= a:\n",
    "    print(\"6 - b 大于等于 a\")\n",
    "else:\n",
    "    print(\"6 - b 小于 a\")"
   ]
  },
  {
   "cell_type": "markdown",
   "metadata": {},
   "source": [
    "## 赋值运算符"
   ]
  },
  {
   "cell_type": "code",
   "execution_count": 3,
   "metadata": {},
   "outputs": [
    {
     "name": "stdout",
     "output_type": "stream",
     "text": [
      "1 - c 的值为： 31\n",
      "2 - c 的值为： 52\n",
      "3 - c 的值为： 1092\n",
      "4 - c 的值为： 52.0\n",
      "5 - c 的值为： 2\n",
      "6 - c 的值为： 2097152\n",
      "7 - c 的值为： 99864\n"
     ]
    }
   ],
   "source": [
    "a = 21\n",
    "b = 10\n",
    "c = 0\n",
    "\n",
    "c = a + b\n",
    "print(\"1 - c 的值为：\", c)\n",
    "\n",
    "c += a\n",
    "print(\"2 - c 的值为：\", c)\n",
    "\n",
    "c *= a\n",
    "print(\"3 - c 的值为：\", c)\n",
    "\n",
    "c /= a\n",
    "print(\"4 - c 的值为：\", c)\n",
    "\n",
    "c = 2\n",
    "c %= a\n",
    "print(\"5 - c 的值为：\", c)\n",
    "\n",
    "c **= a\n",
    "print(\"6 - c 的值为：\", c)\n",
    "\n",
    "c //= a\n",
    "print(\"7 - c 的值为：\", c)"
   ]
  },
  {
   "cell_type": "markdown",
   "metadata": {},
   "source": [
    "## 位运算符"
   ]
  },
  {
   "cell_type": "code",
   "execution_count": 4,
   "metadata": {},
   "outputs": [
    {
     "name": "stdout",
     "output_type": "stream",
     "text": [
      "1 - c 的值为： 12\n",
      "2 - c 的值为： 61\n",
      "3 - c 的值为： 49\n",
      "4 - c 的值为： -61\n",
      "5 - c 的值为： 240\n",
      "6 - c 的值为： 15\n"
     ]
    }
   ],
   "source": [
    "a = 60  # 60 = 0011 1100\n",
    "b = 13  # 13 = 0000 1101\n",
    "c = 0\n",
    "\n",
    "c = a & b  # 12 = 0000 1100\n",
    "print(\"1 - c 的值为：\", c)\n",
    "\n",
    "c = a | b  # 61 = 0011 1101\n",
    "print(\"2 - c 的值为：\", c)\n",
    "\n",
    "c = a ^ b  # 49 = 0011 0001\n",
    "print(\"3 - c 的值为：\", c)\n",
    "\n",
    "c = ~a  # -61 = 1100 0011\n",
    "print(\"4 - c 的值为：\", c)\n",
    "\n",
    "c = a << 2  # 240 = 1111 0000\n",
    "print(\"5 - c 的值为：\", c)\n",
    "\n",
    "c = a >> 2  # 15 = 0000 1111\n",
    "print(\"6 - c 的值为：\", c)"
   ]
  },
  {
   "cell_type": "markdown",
   "metadata": {},
   "source": [
    "## 逻辑运算符"
   ]
  },
  {
   "cell_type": "code",
   "execution_count": 5,
   "metadata": {},
   "outputs": [
    {
     "name": "stdout",
     "output_type": "stream",
     "text": [
      "1 - 变量 a 和 b 都为 true\n",
      "2 - 变量 a 和 b 都为 true，或其中一个变量为 true\n",
      "3 - 变量 a 和 b 有一个不为 true\n",
      "4 - 变量 a 和 b 都为 true，或其中一个变量为 true\n",
      "5 - 变量 a 和 b 都为 false，或其中一个变量为 false\n"
     ]
    }
   ],
   "source": [
    "a = 10\n",
    "b = 20\n",
    "\n",
    "if a and b:\n",
    "    print(\"1 - 变量 a 和 b 都为 true\")\n",
    "else:\n",
    "    print(\"1 - 变量 a 和 b 有一个不为 true\")\n",
    "\n",
    "if a or b:\n",
    "    print(\"2 - 变量 a 和 b 都为 true，或其中一个变量为 true\")\n",
    "else:\n",
    "    print(\"2 - 变量 a 和 b 都不为 true\")\n",
    "\n",
    "# 修改变量 a 的值\n",
    "a = 0\n",
    "if a and b:\n",
    "    print(\"3 - 变量 a 和 b 都为 true\")\n",
    "else:\n",
    "    print(\"3 - 变量 a 和 b 有一个不为 true\")\n",
    "\n",
    "if a or b:\n",
    "    print(\"4 - 变量 a 和 b 都为 true，或其中一个变量为 true\")\n",
    "else:\n",
    "    print(\"4 - 变量 a 和 b 都不为 true\")\n",
    "\n",
    "if not (a and b):\n",
    "    print(\"5 - 变量 a 和 b 都为 false，或其中一个变量为 false\")\n",
    "else:\n",
    "    print(\"5 - 变量 a 和 b 都为 true\")"
   ]
  },
  {
   "cell_type": "markdown",
   "metadata": {},
   "source": [
    "## 成员运算符"
   ]
  },
  {
   "cell_type": "code",
   "execution_count": 6,
   "metadata": {},
   "outputs": [
    {
     "name": "stdout",
     "output_type": "stream",
     "text": [
      "1 - 变量 a 不在给定的列表中 list 中\n",
      "2 - 变量 b 不在给定的列表中 list 中\n",
      "3 - 变量 a 在给定的列表中 list 中\n"
     ]
    }
   ],
   "source": [
    "a = 10\n",
    "b = 20\n",
    "list = [1, 2, 3, 4, 5]\n",
    "\n",
    "if a in list:\n",
    "    print(\"1 - 变量 a 在给定的列表中 list 中\")\n",
    "else:\n",
    "    print(\"1 - 变量 a 不在给定的列表中 list 中\")\n",
    "\n",
    "if b not in list:\n",
    "    print(\"2 - 变量 b 不在给定的列表中 list 中\")\n",
    "else:\n",
    "    print(\"2 - 变量 b 在给定的列表中 list 中\")\n",
    "\n",
    "# 修改变量 a 的值\n",
    "a = 2\n",
    "if a in list:\n",
    "    print(\"3 - 变量 a 在给定的列表中 list 中\")\n",
    "else:\n",
    "    print(\"3 - 变量 a 不在给定的列表中 list 中\")"
   ]
  },
  {
   "cell_type": "markdown",
   "metadata": {},
   "source": [
    "## 身份运算符"
   ]
  },
  {
   "cell_type": "code",
   "execution_count": 7,
   "metadata": {},
   "outputs": [
    {
     "name": "stdout",
     "output_type": "stream",
     "text": [
      "1 - a 和 b 有相同的标识\n",
      "2 - a 和 b 有相同的标识\n",
      "3 - a 和 b 没有相同的标识\n",
      "4 - a 和 b 没有相同的标识\n"
     ]
    }
   ],
   "source": [
    "a = 20\n",
    "b = 20\n",
    "\n",
    "if a is b:\n",
    "    print(\"1 - a 和 b 有相同的标识\")\n",
    "else:\n",
    "    print(\"1 - a 和 b 没有相同的标识\")\n",
    "\n",
    "if id(a) == id(b):\n",
    "    print(\"2 - a 和 b 有相同的标识\")\n",
    "else:\n",
    "    print(\"2 - a 和 b 没有相同的标识\")\n",
    "\n",
    "# 修改变量 b 的值\n",
    "b = 30\n",
    "if a is b:\n",
    "    print(\"3 - a 和 b 有相同的标识\")\n",
    "else:\n",
    "    print(\"3 - a 和 b 没有相同的标识\")\n",
    "\n",
    "if a is not b:\n",
    "    print(\"4 - a 和 b 没有相同的标识\")\n",
    "else:\n",
    "    print(\"4 - a 和 b 有相同的标识\")"
   ]
  },
  {
   "cell_type": "markdown",
   "metadata": {},
   "source": [
    "is 与 == 区别。\n",
    "\n",
    "is 用于判断两个变量引用对象是否为同一个， == 用于判断引用变量的值是否相等。"
   ]
  },
  {
   "cell_type": "code",
   "execution_count": 10,
   "metadata": {},
   "outputs": [
    {
     "name": "stdout",
     "output_type": "stream",
     "text": [
      "True\n",
      "True\n",
      "False\n",
      "True\n"
     ]
    }
   ],
   "source": [
    "a = [1, 2, 3]\n",
    "b = a\n",
    "\n",
    "print(b is a)\n",
    "print(b == a)\n",
    "\n",
    "b = a[:]\n",
    "print(b is a)\n",
    "print(b == a)"
   ]
  },
  {
   "cell_type": "markdown",
   "metadata": {},
   "source": [
    "## 运算符优先级"
   ]
  },
  {
   "cell_type": "code",
   "execution_count": 11,
   "metadata": {},
   "outputs": [
    {
     "name": "stdout",
     "output_type": "stream",
     "text": [
      "(a + b) * c / d 运算结果为： 90.0\n",
      "((a + b) * c) / d 运算结果为： 90.0\n",
      "(a + b) * (c / d) 运算结果为： 90.0\n",
      "a + (b * c) / d 运算结果为： 50.0\n"
     ]
    }
   ],
   "source": [
    "a = 20\n",
    "b = 10\n",
    "c = 15\n",
    "d = 5\n",
    "e = 0\n",
    "\n",
    "e = (a + b) * c / d  # ( 30 * 15 ) / 5\n",
    "print(\"(a + b) * c / d 运算结果为：\", e)\n",
    "\n",
    "e = ((a + b) * c) / d  # (30 * 15 ) / 5\n",
    "print(\"((a + b) * c) / d 运算结果为：\", e)\n",
    "\n",
    "e = (a + b) * (c / d)  # (30) * (15/5)\n",
    "print(\"(a + b) * (c / d) 运算结果为：\", e)\n",
    "\n",
    "e = a + (b * c) / d  #  20 + (150/5)\n",
    "print(\"a + (b * c) / d 运算结果为：\", e)"
   ]
  },
  {
   "cell_type": "code",
   "execution_count": null,
   "metadata": {},
   "outputs": [
    {
     "name": "stdout",
     "output_type": "stream",
     "text": [
      "yes\n"
     ]
    }
   ],
   "source": [
    "#and 拥有更高优先级:\n",
    "x = True\n",
    "y = False\n",
    "z = False\n",
    "\n",
    "if x or y and z:\n",
    "    print(\"yes\")\n",
    "else:\n",
    "    print(\"no\")"
   ]
  },
  {
   "cell_type": "markdown",
   "metadata": {},
   "source": [
    "整体优先级：由高到低\n",
    "\n",
    "- 圆括号的表达式\n",
    "\n",
    "- 读取，切片，调用，属性引用\n",
    "\n",
    "- await 表达式\n",
    "\t\n",
    "- 乘方(指数)\n",
    "\n",
    "- 正，负，按位非 NOT\n",
    "\n",
    "- 乘，矩阵乘，除，整除，取余\n",
    "\n",
    "- 加和减\n",
    "\t\n",
    "- 移位\n",
    "\n",
    "- 按位与 AND\n",
    "\n",
    "- 按位异或 XOR\n",
    "\n",
    "- 按位或 OR\n",
    "\n",
    "- 比较运算，包括成员检测和标识号检测\n",
    "\n",
    "- 逻辑非 NOT\n",
    "\n",
    "- 逻辑与 AND\n",
    "\n",
    "- 逻辑或 OR\n",
    "\t\n",
    "- 条件表达式\n",
    "\n",
    "- lambda 表达式\n",
    "\n",
    "- 赋值表达式"
   ]
  }
 ],
 "metadata": {
  "kernelspec": {
   "display_name": "base",
   "language": "python",
   "name": "python3"
  },
  "language_info": {
   "codemirror_mode": {
    "name": "ipython",
    "version": 3
   },
   "file_extension": ".py",
   "mimetype": "text/x-python",
   "name": "python",
   "nbconvert_exporter": "python",
   "pygments_lexer": "ipython3",
   "version": "3.9.13"
  }
 },
 "nbformat": 4,
 "nbformat_minor": 2
}
