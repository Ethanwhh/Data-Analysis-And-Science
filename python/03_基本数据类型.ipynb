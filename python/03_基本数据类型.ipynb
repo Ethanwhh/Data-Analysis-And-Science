{
 "cells": [
  {
   "cell_type": "markdown",
   "metadata": {},
   "source": [
    "# 基本数据类型"
   ]
  },
  {
   "cell_type": "markdown",
   "metadata": {},
   "source": [
    "### 变量赋值"
   ]
  },
  {
   "cell_type": "markdown",
   "metadata": {},
   "source": [
    "Python 中的变量不需要声明。每个变量在使用前都必须赋值，变量赋值以后该变量才会被创建。  \n",
    "\n",
    "在 Python 中，变量就是变量，它没有类型，我们所说的\"类型\"是变量所指的内存中对象的类型。  \n",
    "\n",
    "等号（=）用来给变量赋值。  \n",
    "\n",
    "等号（=）运算符左边是一个变量名,等号（=）运算符右边是存储在变量中的值。  "
   ]
  },
  {
   "cell_type": "code",
   "execution_count": 1,
   "metadata": {},
   "outputs": [
    {
     "name": "stdout",
     "output_type": "stream",
     "text": [
      "100\n",
      "1000.0\n",
      "Ethanwhh\n"
     ]
    }
   ],
   "source": [
    "counter = 100  # 整型变量\n",
    "miles = 1000.0  # 浮点型变量\n",
    "name = \"Ethanwhh\"  # 字符串\n",
    "print(counter)\n",
    "print(miles)\n",
    "print(name)"
   ]
  },
  {
   "cell_type": "markdown",
   "metadata": {},
   "source": [
    "### 多个变量赋值"
   ]
  },
  {
   "cell_type": "markdown",
   "metadata": {},
   "source": [
    "Python允许你同时为多个变量赋值。"
   ]
  },
  {
   "cell_type": "code",
   "execution_count": 2,
   "metadata": {},
   "outputs": [
    {
     "name": "stdout",
     "output_type": "stream",
     "text": [
      "1 1 1\n"
     ]
    }
   ],
   "source": [
    "a = b = c = 1\n",
    "print(a, b, c)"
   ]
  },
  {
   "cell_type": "code",
   "execution_count": 3,
   "metadata": {},
   "outputs": [
    {
     "name": "stdout",
     "output_type": "stream",
     "text": [
      "1 2 Ethanwhh\n"
     ]
    }
   ],
   "source": [
    "a, b, c = 1, 2, \"Ethanwhh\"\n",
    "print(a, b, c)"
   ]
  },
  {
   "cell_type": "markdown",
   "metadata": {},
   "source": [
    "## 标准数据类型"
   ]
  },
  {
   "cell_type": "markdown",
   "metadata": {},
   "source": [
    "Python3 中常见的数据类型有：\n",
    "- Number（数字）\n",
    "- String（字符串）\n",
    "- bool（布尔类型）\n",
    "- List（列表）\n",
    "- Tuple（元组）\n",
    "- Set（集合）\n",
    "- Dictionary（字典）   \n",
    "\n",
    "Python3 的六个标准数据类型中：\n",
    "- 不可变数据（3 个）：Number（数字）、String（字符串）、Tuple（元组）；\n",
    "- 可变数据（3 个）：List（列表）、Dictionary（字典）、Set（集合）。\n",
    "\n",
    "此外还有一些高级的数据类型，如: 字节数组类型(bytes)。"
   ]
  },
  {
   "cell_type": "markdown",
   "metadata": {},
   "source": [
    "### Number（数字）"
   ]
  },
  {
   "cell_type": "markdown",
   "metadata": {},
   "source": [
    "Python3 支持 int、float、bool、complex（复数）。  \n",
    "\n",
    "在Python 3里，只有一种整数类型 int，表示为长整型，没有 python2 中的 Long。  \n",
    "\n",
    "像大多数语言一样，数值类型的赋值和计算都是很直观的。  \n",
    "\n",
    "内置的 type() 函数可以用来查询变量所指的对象类型。  \n",
    "\n",
    "此外还可以用 isinstance 来判断。  \n",
    "\n",
    "isinstance 和 type 的区别在于：\n",
    "- type()不会认为子类是一种父类类型。\n",
    "- isinstance()会认为子类是一种父类类型。"
   ]
  },
  {
   "cell_type": "code",
   "execution_count": 4,
   "metadata": {},
   "outputs": [
    {
     "name": "stdout",
     "output_type": "stream",
     "text": [
      "<class 'int'> <class 'float'> <class 'bool'> <class 'complex'>\n"
     ]
    }
   ],
   "source": [
    "a, b, c, d = 20, 5.5, True, 4+3j\n",
    "print(type(a), type(b), type(c), type(d))"
   ]
  },
  {
   "cell_type": "code",
   "execution_count": 5,
   "metadata": {},
   "outputs": [
    {
     "data": {
      "text/plain": [
       "True"
      ]
     },
     "execution_count": 5,
     "metadata": {},
     "output_type": "execute_result"
    }
   ],
   "source": [
    "a = 111\n",
    "isinstance(a, int)"
   ]
  },
  {
   "cell_type": "markdown",
   "metadata": {},
   "source": [
    "#### 数值运算"
   ]
  },
  {
   "cell_type": "code",
   "execution_count": 7,
   "metadata": {},
   "outputs": [
    {
     "name": "stdout",
     "output_type": "stream",
     "text": [
      "9\n",
      "2.3\n",
      "21\n",
      "0.5\n",
      "0\n",
      "2\n",
      "32\n"
     ]
    }
   ],
   "source": [
    "print(5 + 4)  # 加法\n",
    "\n",
    "print(4.3 - 2) # 减法\n",
    "\n",
    "print(3 * 7)  # 乘法\n",
    "\n",
    "print(2 / 4)  # 除法，得到一个浮点数\n",
    "\n",
    "print(2 // 4) # 除法，得到一个整数\n",
    "\n",
    "print(17 % 3) # 取余 \n",
    "\n",
    "print(2 ** 5) # 乘方"
   ]
  },
  {
   "cell_type": "markdown",
   "metadata": {},
   "source": [
    "注意：\n",
    "\n",
    "1. Python可以同时为多个变量赋值，如a, b = 1, 2。\n",
    "\n",
    "2. 一个变量可以通过赋值指向不同类型的对象。\n",
    "\n",
    "3. 数值的除法包含两个运算符：/ 返回一个浮点数，// 返回一个整数。\n",
    "\n",
    "4. 在混合计算时，Python会把整型转换成为浮点数。"
   ]
  },
  {
   "cell_type": "markdown",
   "metadata": {},
   "source": [
    "### String（字符串）"
   ]
  },
  {
   "cell_type": "code",
   "execution_count": 9,
   "metadata": {},
   "outputs": [
    {
     "name": "stdout",
     "output_type": "stream",
     "text": [
      "Ethanwhh\n",
      "Ethanwh\n",
      "E\n",
      "han\n",
      "hanwhh\n",
      "EthanwhhEthanwhh\n",
      "Ethanwhh just do it\n"
     ]
    }
   ],
   "source": [
    "str = \"Ethanwhh\"  # 定义一个字符串变量\n",
    "\n",
    "print(str)  # 打印整个字符串\n",
    "print(str[0:-1])  # 打印字符串第一个到倒数第二个字符（不包含倒数第一个字符）\n",
    "print(str[0])  # 打印字符串的第一个字符\n",
    "print(str[2:5])  # 打印字符串第三到第五个字符（包含第五个字符）\n",
    "print(str[2:])  # 打印字符串从第三个字符开始到末尾\n",
    "print(str * 2)  # 打印字符串两次\n",
    "print(str + \" just do it\")  # 打印字符串和\"TEST\"拼接在一起\n"
   ]
  },
  {
   "cell_type": "markdown",
   "metadata": {},
   "source": [
    "注意：\n",
    "\n",
    "1. 反斜杠可以用来转义，使用r可以让反斜杠不发生转义。\n",
    "\n",
    "2. 字符串可以用+运算符连接在一起，用*运算符重复。\n",
    "\n",
    "3. Python中的字符串有两种索引方式，从左往右以0开始，从右往左以-1开始。\n",
    "\n",
    "4. Python中的字符串不能改变。"
   ]
  },
  {
   "cell_type": "markdown",
   "metadata": {},
   "source": [
    "### bool（布尔类型）"
   ]
  },
  {
   "cell_type": "markdown",
   "metadata": {},
   "source": [
    "布尔类型即 True 或 False。\n",
    "\n",
    "在 Python 中，True 和 False 都是关键字，表示布尔值。\n",
    "\n",
    "布尔类型可以用来控制程序的流程，比如判断某个条件是否成立，或者在某个条件满足时执行某段代码。\n",
    "\n",
    "布尔类型特点：\n",
    "\n",
    "- 布尔类型只有两个值：True 和 False。\n",
    "\n",
    "- bool 是 int 的子类，因此布尔值可以被看作整数来使用，其中 True 等价于 1。\n",
    "\n",
    "- 布尔类型可以和其他数据类型进行比较，比如数字、字符串等。在比较时，Python 会将 True 视为 1，False 视为 0。\n",
    "\n",
    "- 布尔类型可以和逻辑运算符一起使用，包括 and、or 和 not。这些运算符可以用来组合多个布尔表达式，生成一个新的布尔值。\n",
    "\n",
    "- 布尔类型也可以被转换成其他数据类型，比如整数、浮点数和字符串。在转换时，True 会被转换成 1，False 会被转换成 0。\n",
    "\n",
    "- 可以使用 bool() 函数将其他类型的值转换为布尔值。以下值在转换为布尔值时为 False：None、False、零 (0、0.0、0j)、空序列（如 ''、()、[]）和空映射（如 {}）。其他所有值转换为布尔值时均为 True。"
   ]
  },
  {
   "cell_type": "code",
   "execution_count": 10,
   "metadata": {},
   "outputs": [
    {
     "name": "stdout",
     "output_type": "stream",
     "text": [
      "<class 'bool'>\n",
      "<class 'bool'>\n",
      "1\n",
      "0\n",
      "False\n",
      "True\n",
      "False\n",
      "True\n",
      "False\n",
      "True\n",
      "False\n",
      "True\n",
      "False\n",
      "True\n",
      "True\n",
      "False\n",
      "This will always print\n",
      "This will also always print\n",
      "Just do it\n"
     ]
    }
   ],
   "source": [
    "# 布尔类型的值和类型\n",
    "a = True\n",
    "b = False\n",
    "print(type(a))  # <class 'bool'>\n",
    "print(type(b))  # <class 'bool'>\n",
    "\n",
    "# 布尔类型的整数表现\n",
    "print(int(True))  # 1\n",
    "print(int(False))  # 0\n",
    "\n",
    "# 使用 bool() 函数进行转换\n",
    "print(bool(0))  # False\n",
    "print(bool(42))  # True\n",
    "print(bool(\"\"))  # False\n",
    "print(bool(\"Python\"))  # True\n",
    "print(bool([]))  # False\n",
    "print(bool([1, 2, 3]))  # True\n",
    "\n",
    "# 布尔逻辑运算\n",
    "print(True and False)  # False\n",
    "print(True or False)  # True\n",
    "print(not True)  # False\n",
    "\n",
    "# 布尔比较运算\n",
    "print(5 > 3)  # True\n",
    "print(2 == 2)  # True\n",
    "print(7 < 4)  # False\n",
    "\n",
    "# 布尔值在控制流中的应用\n",
    "if True:\n",
    "    print(\"This will always print\")\n",
    "\n",
    "if not False:\n",
    "    print(\"This will also always print\")\n",
    "\n",
    "x = 10\n",
    "if x:\n",
    "    print(\"Just do it\")\n"
   ]
  },
  {
   "cell_type": "markdown",
   "metadata": {},
   "source": [
    "注意: \n",
    "\n",
    "在 Python 中，所有**非零的数字和非空的字符串、列表、元组等**数据类型都被视为 **True**，只有**0、空字符串、空列表、空元组等**被视为 **False**。因此，在进行布尔类型转换时，需要注意数据类型的真假性。"
   ]
  },
  {
   "cell_type": "markdown",
   "metadata": {},
   "source": [
    "### List（列表）"
   ]
  },
  {
   "cell_type": "markdown",
   "metadata": {},
   "source": [
    "List（列表） 是 Python 中使用最频繁的数据类型。\n",
    "\n",
    "列表可以完成大多数集合类的数据结构实现。列表中元素的类型可以不相同，它支持数字，字符串甚至可以包含列表（所谓嵌套）。\n",
    "\n",
    "列表是写在方括号 [] 之间、用逗号分隔开的元素列表。\n",
    "\n",
    "和字符串一样，列表同样可以被索引和截取，列表被截取后返回一个包含所需元素的新列表。"
   ]
  },
  {
   "cell_type": "code",
   "execution_count": 11,
   "metadata": {},
   "outputs": [
    {
     "name": "stdout",
     "output_type": "stream",
     "text": [
      "['abcd', 786, 2.23, 'Ethanwhh', 70.2]\n",
      "abcd\n",
      "[786, 2.23]\n",
      "[2.23, 'Ethanwhh', 70.2]\n",
      "[123, 'Ethanwhh', 123, 'Ethanwhh']\n",
      "['abcd', 786, 2.23, 'Ethanwhh', 70.2, 123, 'Ethanwhh']\n"
     ]
    }
   ],
   "source": [
    "list = [\"abcd\", 786, 2.23, \"Ethanwhh\", 70.2]  # 定义一个列表\n",
    "tinylist = [123, \"Ethanwhh\"]\n",
    "\n",
    "print(list)  # 打印整个列表\n",
    "print(list[0])  # 打印列表的第一个元素\n",
    "print(list[1:3])  # 打印列表第二到第四个元素（不包含第四个元素）\n",
    "print(list[2:])  # 打印列表从第三个元素开始到末尾\n",
    "print(tinylist * 2)  # 打印tinylist列表两次\n",
    "print(list + tinylist)  # 打印两个列表拼接在一起的结果"
   ]
  },
  {
   "cell_type": "markdown",
   "metadata": {},
   "source": [
    "**与Python字符串不一样的是，列表中的元素是可以改变的**"
   ]
  },
  {
   "cell_type": "code",
   "execution_count": 12,
   "metadata": {},
   "outputs": [
    {
     "name": "stdout",
     "output_type": "stream",
     "text": [
      "[1, 2, 3, 4, 5]\n",
      "['ethan', 2, 3, 4, 5]\n"
     ]
    }
   ],
   "source": [
    "a = [1, 2, 3, 4, 5]\n",
    "print(a)\n",
    "a[0] = \"ethan\"\n",
    "print(a)"
   ]
  },
  {
   "cell_type": "markdown",
   "metadata": {},
   "source": [
    "注意：\n",
    "\n",
    "1. 列表写在方括号之间，元素用逗号隔开。\n",
    "\n",
    "2. 和字符串一样，列表可以被索引和切片。\n",
    "\n",
    "3. 列表可以使用 + 操作符进行拼接。\n",
    "\n",
    "4. 列表中的元素是可以改变的。"
   ]
  },
  {
   "cell_type": "code",
   "execution_count": 14,
   "metadata": {},
   "outputs": [
    {
     "name": "stdout",
     "output_type": "stream",
     "text": [
      "Python love I\n"
     ]
    }
   ],
   "source": [
    "def reverseWords(input):\n",
    "    # 通过空格将字符串分隔符，把各个单词分隔为列表\n",
    "    inputWords = input.split(\" \")\n",
    "\n",
    "    # 翻转字符串\n",
    "    # 假设列表 list = [1,2,3,4],\n",
    "    # list[0]=1, list[1]=2 ，而 -1 表示最后一个元素 list[-1]=4 ( 与 list[3]=4 一样)\n",
    "    # inputWords[-1::-1] 有三个参数\n",
    "    # 第一个参数 -1 表示最后一个元素\n",
    "    # 第二个参数为空，表示移动到列表末尾\n",
    "    # 第三个参数为步长，-1 表示逆向\n",
    "    inputWords = inputWords[-1::-1]\n",
    "\n",
    "    # 重新组合字符串\n",
    "    output = \" \".join(inputWords)\n",
    "\n",
    "    return output\n",
    "\n",
    "\n",
    "if __name__ == \"__main__\":\n",
    "    input = \"I love Python\"\n",
    "    rw = reverseWords(input)\n",
    "    print(rw)\n"
   ]
  },
  {
   "cell_type": "markdown",
   "metadata": {},
   "source": [
    "### Tuple（元组）"
   ]
  },
  {
   "cell_type": "markdown",
   "metadata": {},
   "source": [
    "元组（tuple）与列表类似，不同之处在于元组的元素不能修改。\n",
    "\n",
    "元组写在小括号 () 里，元素之间用逗号隔开。\n",
    "\n",
    "元组中的元素类型也可以不相同。"
   ]
  },
  {
   "cell_type": "code",
   "execution_count": 15,
   "metadata": {},
   "outputs": [
    {
     "name": "stdout",
     "output_type": "stream",
     "text": [
      "('abcd', 786, 2.23, 'Ethanwhh', 70.2)\n",
      "abcd\n",
      "(786, 2.23)\n",
      "(2.23, 'Ethanwhh', 70.2)\n",
      "(123, 'Ethanwhh', 123, 'Ethanwhh')\n",
      "('abcd', 786, 2.23, 'Ethanwhh', 70.2, 123, 'Ethanwhh')\n"
     ]
    }
   ],
   "source": [
    "tuple = (\"abcd\", 786, 2.23, \"Ethanwhh\", 70.2)\n",
    "tinytuple = (123, \"Ethanwhh\")\n",
    "\n",
    "print(tuple)  # 输出完整元组\n",
    "print(tuple[0])  # 输出元组的第一个元素\n",
    "print(tuple[1:3])  # 输出从第二个元素开始到第三个元素\n",
    "print(tuple[2:])  # 输出从第三个元素开始的所有元素\n",
    "print(tinytuple * 2)  # 输出两次元组\n",
    "print(tuple + tinytuple)  # 连接元组"
   ]
  },
  {
   "cell_type": "code",
   "execution_count": 18,
   "metadata": {},
   "outputs": [
    {
     "name": "stdout",
     "output_type": "stream",
     "text": [
      "(1, 2, 3, 4, 5)\n",
      "1\n",
      "(2, 3)\n",
      "(1, 3, 5)\n"
     ]
    },
    {
     "ename": "TypeError",
     "evalue": "'tuple' object does not support item assignment",
     "output_type": "error",
     "traceback": [
      "\u001b[1;31m---------------------------------------------------------------------------\u001b[0m",
      "\u001b[1;31mTypeError\u001b[0m                                 Traceback (most recent call last)",
      "\u001b[1;32m~\\AppData\\Local\\Temp\\ipykernel_92700\\2341267616.py\u001b[0m in \u001b[0;36m<module>\u001b[1;34m\u001b[0m\n\u001b[0;32m      4\u001b[0m \u001b[0mprint\u001b[0m\u001b[1;33m(\u001b[0m\u001b[0mtup\u001b[0m\u001b[1;33m[\u001b[0m\u001b[1;36m1\u001b[0m\u001b[1;33m:\u001b[0m\u001b[1;36m3\u001b[0m\u001b[1;33m]\u001b[0m\u001b[1;33m)\u001b[0m\u001b[1;33m\u001b[0m\u001b[1;33m\u001b[0m\u001b[0m\n\u001b[0;32m      5\u001b[0m \u001b[0mprint\u001b[0m\u001b[1;33m(\u001b[0m\u001b[0mtup\u001b[0m\u001b[1;33m[\u001b[0m\u001b[1;33m:\u001b[0m\u001b[1;33m:\u001b[0m\u001b[1;36m2\u001b[0m\u001b[1;33m]\u001b[0m\u001b[1;33m)\u001b[0m\u001b[1;33m\u001b[0m\u001b[1;33m\u001b[0m\u001b[0m\n\u001b[1;32m----> 6\u001b[1;33m \u001b[0mtup\u001b[0m\u001b[1;33m[\u001b[0m\u001b[1;36m0\u001b[0m\u001b[1;33m]\u001b[0m \u001b[1;33m=\u001b[0m \u001b[1;36m10\u001b[0m   \u001b[1;31m# 元组是不可变的，不能修改元素\u001b[0m\u001b[1;33m\u001b[0m\u001b[1;33m\u001b[0m\u001b[0m\n\u001b[0m\u001b[0;32m      7\u001b[0m \u001b[0mprint\u001b[0m\u001b[1;33m(\u001b[0m\u001b[0mtup\u001b[0m\u001b[1;33m)\u001b[0m\u001b[1;33m\u001b[0m\u001b[1;33m\u001b[0m\u001b[0m\n",
      "\u001b[1;31mTypeError\u001b[0m: 'tuple' object does not support item assignment"
     ]
    }
   ],
   "source": [
    "tup = (1, 2, 3, 4, 5)\n",
    "print(tup)\n",
    "print(tup[0])\n",
    "print(tup[1:3])\n",
    "print(tup[::2])\n",
    "tup[0] = 10   # 元组是不可变的，不能修改元素\n",
    "print(tup)"
   ]
  },
  {
   "cell_type": "markdown",
   "metadata": {},
   "source": [
    "构造包含 0 个或 1 个元素的元组比较特殊，所以有一些额外的语法规则。"
   ]
  },
  {
   "cell_type": "code",
   "execution_count": 20,
   "metadata": {},
   "outputs": [
    {
     "name": "stdout",
     "output_type": "stream",
     "text": [
      "()\n",
      "(20,)\n"
     ]
    }
   ],
   "source": [
    "tup1 = ()  # 空元组\n",
    "tup2 = (20,)  # 一个元素，需要在元素后添加逗号\n",
    "print(tup1)\n",
    "print(tup2)"
   ]
  },
  {
   "cell_type": "markdown",
   "metadata": {},
   "source": [
    "如果你想创建只有一个元素的元组，需要注意在元素后面添加一个**逗号**，以区分它是一个元组而不是一个普通的值，这是因为在没有逗号的情况下，Python会将括号解释为**数学运算中的括号**，而不是元组的表示。"
   ]
  },
  {
   "cell_type": "markdown",
   "metadata": {},
   "source": [
    "注意：\n",
    "\n",
    "1. 与字符串一样，元组的元素不能修改。\n",
    "\n",
    "2. 元组也可以被索引和切片，方法一样。\n",
    "\n",
    "3. 注意构造包含 0 或 1 个元素的元组的特殊语法规则。\n",
    "\n",
    "4. 元组也可以使用 + 操作符进行拼接。"
   ]
  },
  {
   "cell_type": "markdown",
   "metadata": {},
   "source": [
    "### Set（集合）"
   ]
  },
  {
   "cell_type": "markdown",
   "metadata": {},
   "source": [
    "Python 中的集合（Set）是一种无序、可变的数据类型，用于存储唯一的元素。\n",
    "\n",
    "集合中的元素不会重复，并且可以进行交集、并集、差集等常见的集合操作。\n",
    "\n",
    "在 Python 中，集合使用大括号 **{}** 表示，元素之间用逗号 , 分隔。\n",
    "\n",
    "另外，也可以使用 set() 函数创建集合。\n",
    "\n",
    "注意：创建一个空集合必须用 set() 而不是 { }，因为 { } 是用来创建一个空字典。"
   ]
  },
  {
   "cell_type": "code",
   "execution_count": 21,
   "metadata": {},
   "outputs": [
    {
     "name": "stdout",
     "output_type": "stream",
     "text": [
      "{'Google', 'Facebook', 'Taobao', 'Zhihu', 'Baidu', 'Ethanwhh'}\n",
      "Ethanwhh 在集合中\n",
      "{'r', 'c', 'a', 'd', 'b'}\n",
      "{'r', 'b', 'd'}\n",
      "{'r', 'c', 'm', 'a', 'd', 'l', 'z', 'b'}\n",
      "{'a', 'c'}\n",
      "{'r', 'l', 'z', 'm', 'b', 'd'}\n"
     ]
    }
   ],
   "source": [
    "sites = {\"Google\", \"Taobao\", \"Ethanwhh\", \"Facebook\", \"Zhihu\", \"Baidu\"}\n",
    "print(sites)  # 输出集合，重复的元素被自动去掉\n",
    "\n",
    "# 成员测试\n",
    "if \"Ethanwhh\" in sites:\n",
    "    print(\"Ethanwhh 在集合中\")\n",
    "else:\n",
    "    print(\"Ethanwhh 不在集合中\")\n",
    "\n",
    "# set可以进行集合运算\n",
    "a = set(\"abracadabra\")\n",
    "b = set(\"alacazam\")\n",
    "\n",
    "print(a)\n",
    "\n",
    "print(a - b)  # a 和 b 的差集\n",
    "\n",
    "print(a | b)  # a 和 b 的并集\n",
    "\n",
    "print(a & b)  # a 和 b 的交集\n",
    "\n",
    "print(a ^ b)  # a 和 b 中不同时存在的元素"
   ]
  },
  {
   "cell_type": "markdown",
   "metadata": {},
   "source": [
    "### Dictionary（字典）"
   ]
  },
  {
   "cell_type": "markdown",
   "metadata": {},
   "source": [
    "字典（dictionary）是Python中另一个非常有用的内置数据类型。\n",
    "\n",
    "列表是**有序**的对象集合，字典是**无序**的对象集合。两者之间的区别在于：*字典当中的元素是通过键来存取的，而不是通过偏移存取。*\n",
    "\n",
    "字典是一种映射类型，字典用 { } 标识，它是一个无序的 键(key) : 值(value) 的集合。\n",
    "\n",
    "键(key)必须使用不可变类型。\n",
    "\n",
    "在同一个字典中，键(key)必须是唯一的。"
   ]
  },
  {
   "cell_type": "code",
   "execution_count": 22,
   "metadata": {},
   "outputs": [
    {
     "name": "stdout",
     "output_type": "stream",
     "text": [
      "1 - Ethan\n",
      "2 - whh\n",
      "{'name': 'Ethanwhh', 'code': 1, 'site': 'Ethanwhh.github.io'}\n",
      "dict_keys(['name', 'code', 'site'])\n",
      "dict_values(['Ethanwhh', 1, 'Ethanwhh.github.io'])\n"
     ]
    }
   ],
   "source": [
    "dict = {}\n",
    "dict[\"one\"] = \"1 - Ethan\"\n",
    "dict[2] = \"2 - whh\"\n",
    "\n",
    "tinydict = {\"name\": \"Ethanwhh\", \"code\": 1, \"site\": \"Ethanwhh.github.io\"}\n",
    "\n",
    "\n",
    "print(dict[\"one\"])  # 输出键为 'one' 的值\n",
    "print(dict[2])  # 输出键为 2 的值\n",
    "print(tinydict)  # 输出完整的字典\n",
    "print(tinydict.keys())  # 输出所有键\n",
    "print(tinydict.values())  # 输出所有值"
   ]
  },
  {
   "cell_type": "markdown",
   "metadata": {},
   "source": [
    "注意：\n",
    "\n",
    "1. 字典是一种映射类型，它的元素是键值对。\n",
    "\n",
    "2. 字典的关键字必须为不可变类型，且不能重复。\n",
    "\n",
    "3. 创建空字典使用 { }。"
   ]
  },
  {
   "cell_type": "markdown",
   "metadata": {},
   "source": [
    "### bytes 类型"
   ]
  },
  {
   "cell_type": "markdown",
   "metadata": {},
   "source": [
    "在 Python3 中，bytes 类型表示的是不可变的二进制序列（byte sequence）。\n",
    "\n",
    "与字符串类型不同的是，bytes 类型中的元素是整数值（0 到 255 之间的整数），而不是 Unicode 字符。\n",
    "\n",
    "bytes 类型通常用于处理二进制数据，比如图像文件、音频文件、视频文件等等。在网络编程中，也经常使用 bytes 类型来传输二进制数据。\n",
    "\n",
    "创建 bytes 对象的方式有多种，最常见的方式是使用 b 前缀。\n",
    "\n",
    "此外，也可以使用 bytes() 函数将其他类型的对象转换为 bytes 类型。bytes() 函数的第一个参数是要转换的对象，第二个参数是编码方式，如果省略第二个参数，则默认使用 UTF-8 编码。"
   ]
  },
  {
   "cell_type": "code",
   "execution_count": 24,
   "metadata": {},
   "outputs": [
    {
     "name": "stdout",
     "output_type": "stream",
     "text": [
      "b'hello'\n"
     ]
    }
   ],
   "source": [
    "x = bytes(\"hello\", encoding=\"utf-8\")\n",
    "print(x)"
   ]
  },
  {
   "cell_type": "markdown",
   "metadata": {},
   "source": [
    "与字符串类型类似，bytes 类型也支持许多操作和方法，如切片、拼接、查找、替换等等。\n",
    "\n",
    "同时，由于 bytes 类型是不可变的，因此在进行修改操作时需要创建一个新的 bytes 对象。"
   ]
  },
  {
   "cell_type": "code",
   "execution_count": 25,
   "metadata": {},
   "outputs": [
    {
     "name": "stdout",
     "output_type": "stream",
     "text": [
      "b'el'\n",
      "b'helloworld'\n"
     ]
    }
   ],
   "source": [
    "x = b\"hello\"\n",
    "y = x[1:3]  # 切片操作，得到 b\"el\"\n",
    "z = x + b\"world\"  # 拼接操作，得到 b\"helloworld\"\n",
    "print(y)\n",
    "print(z)"
   ]
  },
  {
   "cell_type": "markdown",
   "metadata": {},
   "source": [
    "需要注意的是，bytes 类型中的元素是整数值，因此在进行比较操作时需要使用相应的整数值。"
   ]
  },
  {
   "cell_type": "code",
   "execution_count": 26,
   "metadata": {},
   "outputs": [
    {
     "name": "stdout",
     "output_type": "stream",
     "text": [
      "The first element is 'h'\n"
     ]
    }
   ],
   "source": [
    "x = b\"hello\"\n",
    "if x[0] == ord(\"h\"):  # ord()函数将字符转换为ASCII码\n",
    "    print(\"The first element is 'h'\")"
   ]
  }
 ],
 "metadata": {
  "kernelspec": {
   "display_name": "base",
   "language": "python",
   "name": "python3"
  },
  "language_info": {
   "codemirror_mode": {
    "name": "ipython",
    "version": 3
   },
   "file_extension": ".py",
   "mimetype": "text/x-python",
   "name": "python",
   "nbconvert_exporter": "python",
   "pygments_lexer": "ipython3",
   "version": "3.9.13"
  }
 },
 "nbformat": 4,
 "nbformat_minor": 2
}
