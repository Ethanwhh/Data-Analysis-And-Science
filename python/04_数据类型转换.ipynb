{
 "cells": [
  {
   "cell_type": "markdown",
   "metadata": {},
   "source": [
    "# 数据类型转换"
   ]
  },
  {
   "cell_type": "markdown",
   "metadata": {},
   "source": [
    "有时候，我们需要对数据内置的类型进行转换，数据类型的转换，一般情况下你只需要将数据类型作为函数名即可。\n",
    "\n",
    "Python 数据类型转换可以分为两种：\n",
    "\n",
    "- 隐式类型转换 - 自动完成。\n",
    "\n",
    "- 显式类型转换 - 需要使用类型函数来转换。"
   ]
  },
  {
   "cell_type": "markdown",
   "metadata": {},
   "source": [
    "## 隐式类型转换"
   ]
  },
  {
   "cell_type": "code",
   "execution_count": 1,
   "metadata": {},
   "outputs": [
    {
     "name": "stdout",
     "output_type": "stream",
     "text": [
      "num_int 数据类型为: <class 'int'>\n",
      "num_flo 数据类型为: <class 'float'>\n",
      "num_new 值为: 124.23\n",
      "num_new 数据类型为: <class 'float'>\n"
     ]
    }
   ],
   "source": [
    "# 整型+浮点型为浮点型，Python 会将较小的数据类型转换为较大的数据类型，以避免数据丢失。\n",
    "num_int = 123\n",
    "num_flo = 1.23\n",
    "\n",
    "num_new = num_int + num_flo\n",
    "\n",
    "print(\"num_int 数据类型为:\",type(num_int))\n",
    "print(\"num_flo 数据类型为:\",type(num_flo))\n",
    "\n",
    "print(\"num_new 值为:\",num_new)\n",
    "print(\"num_new 数据类型为:\",type(num_new))"
   ]
  },
  {
   "cell_type": "code",
   "execution_count": 2,
   "metadata": {},
   "outputs": [
    {
     "name": "stdout",
     "output_type": "stream",
     "text": [
      "num_int 数据类型为: <class 'int'>\n",
      "num_str 数据类型为: <class 'str'>\n"
     ]
    },
    {
     "ename": "TypeError",
     "evalue": "unsupported operand type(s) for +: 'int' and 'str'",
     "output_type": "error",
     "traceback": [
      "\u001b[1;31m---------------------------------------------------------------------------\u001b[0m",
      "\u001b[1;31mTypeError\u001b[0m                                 Traceback (most recent call last)",
      "\u001b[1;32m~\\AppData\\Local\\Temp\\ipykernel_27088\\1219664585.py\u001b[0m in \u001b[0;36m<module>\u001b[1;34m\u001b[0m\n\u001b[0;32m      5\u001b[0m \u001b[0mprint\u001b[0m\u001b[1;33m(\u001b[0m\u001b[1;34m\"num_str 数据类型为:\"\u001b[0m\u001b[1;33m,\u001b[0m \u001b[0mtype\u001b[0m\u001b[1;33m(\u001b[0m\u001b[0mnum_str\u001b[0m\u001b[1;33m)\u001b[0m\u001b[1;33m)\u001b[0m\u001b[1;33m\u001b[0m\u001b[1;33m\u001b[0m\u001b[0m\n\u001b[0;32m      6\u001b[0m \u001b[1;33m\u001b[0m\u001b[0m\n\u001b[1;32m----> 7\u001b[1;33m \u001b[0mprint\u001b[0m\u001b[1;33m(\u001b[0m\u001b[0mnum_int\u001b[0m \u001b[1;33m+\u001b[0m \u001b[0mnum_str\u001b[0m\u001b[1;33m)\u001b[0m\u001b[1;33m\u001b[0m\u001b[1;33m\u001b[0m\u001b[0m\n\u001b[0m",
      "\u001b[1;31mTypeError\u001b[0m: unsupported operand type(s) for +: 'int' and 'str'"
     ]
    }
   ],
   "source": [
    "num_int = 123\n",
    "num_str = \"456\"\n",
    "\n",
    "print(\"num_int 数据类型为:\", type(num_int))\n",
    "print(\"num_str 数据类型为:\", type(num_str))\n",
    "\n",
    "print(num_int + num_str)"
   ]
  },
  {
   "cell_type": "markdown",
   "metadata": {},
   "source": [
    "整型+字符型，Python 在这种情况下无法使用隐式转换。\n",
    "\n",
    "但是，Python 为这些类型的情况提供了一种解决方案，称为显式转换。"
   ]
  },
  {
   "cell_type": "markdown",
   "metadata": {},
   "source": [
    "## 显式类型转换"
   ]
  },
  {
   "cell_type": "markdown",
   "metadata": {},
   "source": [
    "在显式类型转换中，用户将对象的数据类型转换为所需的数据类型。 我们使用 int()、float()、str() 等预定义函数来执行显式类型转换。"
   ]
  },
  {
   "cell_type": "markdown",
   "metadata": {},
   "source": [
    "int() 强制转换为整型。"
   ]
  },
  {
   "cell_type": "code",
   "execution_count": 4,
   "metadata": {},
   "outputs": [
    {
     "name": "stdout",
     "output_type": "stream",
     "text": [
      "1 2 3\n"
     ]
    }
   ],
   "source": [
    "x = int(1)  # x 输出结果为 1\n",
    "y = int(2.8)  # y 输出结果为 2\n",
    "z = int(\"3\")  # z 输出结果为 3\n",
    "print(x, y, z)"
   ]
  },
  {
   "cell_type": "markdown",
   "metadata": {},
   "source": [
    "float() 强制转换为浮点型。"
   ]
  },
  {
   "cell_type": "code",
   "execution_count": 5,
   "metadata": {},
   "outputs": [
    {
     "name": "stdout",
     "output_type": "stream",
     "text": [
      "1.0 2.8 3.0 4.2\n"
     ]
    }
   ],
   "source": [
    "x = float(1)  # x 输出结果为 1.0\n",
    "y = float(2.8)  # y 输出结果为 2.8\n",
    "z = float(\"3\")  # z 输出结果为 3.0\n",
    "w = float(\"4.2\")  # w 输出结果为 4.2\n",
    "print(x, y, z, w)"
   ]
  },
  {
   "cell_type": "markdown",
   "metadata": {},
   "source": [
    "str() 强制转换为字符串类型。"
   ]
  },
  {
   "cell_type": "code",
   "execution_count": 6,
   "metadata": {},
   "outputs": [
    {
     "name": "stdout",
     "output_type": "stream",
     "text": [
      "s1 2 3.0\n"
     ]
    }
   ],
   "source": [
    "x = str(\"s1\")  # x 输出结果为 's1'\n",
    "y = str(2)  # y 输出结果为 '2'\n",
    "z = str(3.0)  # z 输出结果为 '3.0'\n",
    "print(x, y, z)"
   ]
  },
  {
   "cell_type": "markdown",
   "metadata": {},
   "source": [
    "整型和字符串类型进行运算，就可以用强制类型转换来完成。"
   ]
  },
  {
   "cell_type": "code",
   "execution_count": 7,
   "metadata": {},
   "outputs": [
    {
     "name": "stdout",
     "output_type": "stream",
     "text": [
      "num_int 数据类型为: <class 'int'>\n",
      "类型转换前，num_str 数据类型为: <class 'str'>\n",
      "类型转换后，num_str 数据类型为: <class 'int'>\n",
      "num_int 与 num_str 相加结果为: 579\n",
      "sum 数据类型为: <class 'int'>\n"
     ]
    }
   ],
   "source": [
    "num_int = 123\n",
    "num_str = \"456\"\n",
    "\n",
    "print(\"num_int 数据类型为:\", type(num_int))\n",
    "print(\"类型转换前，num_str 数据类型为:\", type(num_str))\n",
    "\n",
    "num_str = int(num_str)  # 强制转换为整型\n",
    "print(\"类型转换后，num_str 数据类型为:\", type(num_str))\n",
    "\n",
    "num_sum = num_int + num_str\n",
    "\n",
    "print(\"num_int 与 num_str 相加结果为:\", num_sum)\n",
    "print(\"sum 数据类型为:\", type(num_sum))"
   ]
  }
 ],
 "metadata": {
  "kernelspec": {
   "display_name": "base",
   "language": "python",
   "name": "python3"
  },
  "language_info": {
   "codemirror_mode": {
    "name": "ipython",
    "version": 3
   },
   "file_extension": ".py",
   "mimetype": "text/x-python",
   "name": "python",
   "nbconvert_exporter": "python",
   "pygments_lexer": "ipython3",
   "version": "3.9.13"
  }
 },
 "nbformat": 4,
 "nbformat_minor": 2
}
