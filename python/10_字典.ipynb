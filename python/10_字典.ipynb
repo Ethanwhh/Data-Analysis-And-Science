{
 "cells": [
  {
   "cell_type": "markdown",
   "metadata": {},
   "source": [
    "# 字典"
   ]
  },
  {
   "cell_type": "markdown",
   "metadata": {},
   "source": [
    "字典是另一种可变容器模型，且可存储任意类型对象。\n",
    "\n",
    "字典的每个键值 key=>value 对用冒号 : 分割，每个对之间用逗号(,)分割，整个字典包括在花括号 {} 中。"
   ]
  },
  {
   "cell_type": "markdown",
   "metadata": {},
   "source": [
    "键必须是唯一的，但值则不必。\n",
    "\n",
    "值可以取任何数据类型，但键必须是不可变的，如字符串，数字。"
   ]
  },
  {
   "cell_type": "markdown",
   "metadata": {},
   "source": [
    "## 创建空字典"
   ]
  },
  {
   "cell_type": "code",
   "execution_count": 1,
   "metadata": {},
   "outputs": [
    {
     "name": "stdout",
     "output_type": "stream",
     "text": [
      "{}\n",
      "Length: 0\n",
      "<class 'dict'>\n"
     ]
    }
   ],
   "source": [
    "# 使用大括号 {} 来创建空字典\n",
    "emptyDict = {}\n",
    " \n",
    "# 打印字典\n",
    "print(emptyDict)\n",
    " \n",
    "# 查看字典的数量\n",
    "print(\"Length:\", len(emptyDict))\n",
    " \n",
    "# 查看类型\n",
    "print(type(emptyDict))"
   ]
  },
  {
   "cell_type": "code",
   "execution_count": 2,
   "metadata": {},
   "outputs": [
    {
     "name": "stdout",
     "output_type": "stream",
     "text": [
      "{}\n",
      "Length: 0\n",
      "<class 'dict'>\n"
     ]
    }
   ],
   "source": [
    "#使用内置函数创建字典\n",
    "emptyDict = dict()\n",
    "\n",
    "# 打印字典\n",
    "print(emptyDict)\n",
    "\n",
    "# 查看字典的数量\n",
    "print(\"Length:\", len(emptyDict))\n",
    "\n",
    "# 查看类型\n",
    "print(type(emptyDict))"
   ]
  },
  {
   "cell_type": "markdown",
   "metadata": {},
   "source": [
    "## 访问字典里的值"
   ]
  },
  {
   "cell_type": "code",
   "execution_count": 10,
   "metadata": {},
   "outputs": [
    {
     "name": "stdout",
     "output_type": "stream",
     "text": [
      "tinydict['Name']:  Ethanwhhh\n",
      "tinydict['Age']:  20\n"
     ]
    }
   ],
   "source": [
    "tinydict = {\"Name\": \"Ethanwhhh\", \"Age\": 20, \"Class\": \"First\"}\n",
    "\n",
    "print(\"tinydict['Name']: \", tinydict[\"Name\"])\n",
    "print(\"tinydict['Age']: \", tinydict[\"Age\"])"
   ]
  },
  {
   "cell_type": "code",
   "execution_count": 9,
   "metadata": {},
   "outputs": [
    {
     "ename": "KeyError",
     "evalue": "'Alice'",
     "output_type": "error",
     "traceback": [
      "\u001b[1;31m---------------------------------------------------------------------------\u001b[0m",
      "\u001b[1;31mKeyError\u001b[0m                                  Traceback (most recent call last)",
      "\u001b[1;32m~\\AppData\\Local\\Temp\\ipykernel_35456\\1284639598.py\u001b[0m in \u001b[0;36m<module>\u001b[1;34m\u001b[0m\n\u001b[0;32m      2\u001b[0m \u001b[0mtinydict\u001b[0m \u001b[1;33m=\u001b[0m \u001b[1;33m{\u001b[0m\u001b[1;34m\"Name\"\u001b[0m\u001b[1;33m:\u001b[0m \u001b[1;34m\"Ethanwhh\"\u001b[0m\u001b[1;33m,\u001b[0m \u001b[1;34m\"Age\"\u001b[0m\u001b[1;33m:\u001b[0m \u001b[1;36m20\u001b[0m\u001b[1;33m,\u001b[0m \u001b[1;34m\"Class\"\u001b[0m\u001b[1;33m:\u001b[0m \u001b[1;34m\"First\"\u001b[0m\u001b[1;33m}\u001b[0m\u001b[1;33m\u001b[0m\u001b[1;33m\u001b[0m\u001b[0m\n\u001b[0;32m      3\u001b[0m \u001b[1;33m\u001b[0m\u001b[0m\n\u001b[1;32m----> 4\u001b[1;33m \u001b[0mprint\u001b[0m\u001b[1;33m(\u001b[0m\u001b[1;34m\"tinydict['Alice']: \"\u001b[0m\u001b[1;33m,\u001b[0m \u001b[0mtinydict\u001b[0m\u001b[1;33m[\u001b[0m\u001b[1;34m\"Alice\"\u001b[0m\u001b[1;33m]\u001b[0m\u001b[1;33m)\u001b[0m\u001b[1;33m\u001b[0m\u001b[1;33m\u001b[0m\u001b[0m\n\u001b[0m",
      "\u001b[1;31mKeyError\u001b[0m: 'Alice'"
     ]
    }
   ],
   "source": [
    "#如果用字典里没有的键访问数据，会输出错误\n",
    "tinydict = {\"Name\": \"Ethanwhh\", \"Age\": 20, \"Class\": \"First\"}\n",
    "\n",
    "print(\"tinydict['Alice']: \", tinydict[\"Alice\"])\n"
   ]
  },
  {
   "cell_type": "markdown",
   "metadata": {},
   "source": [
    "## 修改字典"
   ]
  },
  {
   "cell_type": "code",
   "execution_count": 8,
   "metadata": {},
   "outputs": [
    {
     "name": "stdout",
     "output_type": "stream",
     "text": [
      "tinydict['Age']:  21\n",
      "tinydict['School']:  HIT\n"
     ]
    }
   ],
   "source": [
    "tinydict = {\"Name\": \"Ethanwhh\", \"Age\": 20, \"Class\": \"First\"}\n",
    "\n",
    "tinydict[\"Age\"] = 21  # 更新 Age\n",
    "tinydict[\"School\"] = \"HIT\"  # 添加信息\n",
    "\n",
    "\n",
    "print(\"tinydict['Age']: \", tinydict[\"Age\"])\n",
    "print(\"tinydict['School']: \", tinydict[\"School\"])"
   ]
  },
  {
   "cell_type": "markdown",
   "metadata": {},
   "source": [
    "## 删除字典元素"
   ]
  },
  {
   "cell_type": "code",
   "execution_count": 7,
   "metadata": {},
   "outputs": [
    {
     "ename": "NameError",
     "evalue": "name 'tinydict' is not defined",
     "output_type": "error",
     "traceback": [
      "\u001b[1;31m---------------------------------------------------------------------------\u001b[0m",
      "\u001b[1;31mNameError\u001b[0m                                 Traceback (most recent call last)",
      "\u001b[1;32m~\\AppData\\Local\\Temp\\ipykernel_35456\\2563544707.py\u001b[0m in \u001b[0;36m<module>\u001b[1;34m\u001b[0m\n\u001b[0;32m      5\u001b[0m \u001b[1;32mdel\u001b[0m \u001b[0mtinydict\u001b[0m  \u001b[1;31m# 删除字典\u001b[0m\u001b[1;33m\u001b[0m\u001b[1;33m\u001b[0m\u001b[0m\n\u001b[0;32m      6\u001b[0m \u001b[1;33m\u001b[0m\u001b[0m\n\u001b[1;32m----> 7\u001b[1;33m \u001b[0mprint\u001b[0m\u001b[1;33m(\u001b[0m\u001b[1;34m\"tinydict['Age']: \"\u001b[0m\u001b[1;33m,\u001b[0m \u001b[0mtinydict\u001b[0m\u001b[1;33m[\u001b[0m\u001b[1;34m\"Age\"\u001b[0m\u001b[1;33m]\u001b[0m\u001b[1;33m)\u001b[0m\u001b[1;33m\u001b[0m\u001b[1;33m\u001b[0m\u001b[0m\n\u001b[0m\u001b[0;32m      8\u001b[0m \u001b[0mprint\u001b[0m\u001b[1;33m(\u001b[0m\u001b[1;34m\"tinydict['School']: \"\u001b[0m\u001b[1;33m,\u001b[0m \u001b[0mtinydict\u001b[0m\u001b[1;33m[\u001b[0m\u001b[1;34m\"School\"\u001b[0m\u001b[1;33m]\u001b[0m\u001b[1;33m)\u001b[0m\u001b[1;33m\u001b[0m\u001b[1;33m\u001b[0m\u001b[0m\n\u001b[0;32m      9\u001b[0m \u001b[1;31m# 这会引发一个异常，因为用执行 del 操作后字典不再存在\u001b[0m\u001b[1;33m\u001b[0m\u001b[1;33m\u001b[0m\u001b[0m\n",
      "\u001b[1;31mNameError\u001b[0m: name 'tinydict' is not defined"
     ]
    }
   ],
   "source": [
    "tinydict = {\"Name\": \"Ethanwhh\", \"Age\": 20, \"Class\": \"First\"}\n",
    "\n",
    "del tinydict[\"Name\"]  # 删除键 'Name'\n",
    "tinydict.clear()  # 清空字典\n",
    "del tinydict  # 删除字典\n",
    "\n",
    "print(\"tinydict['Age']: \", tinydict[\"Age\"])\n",
    "print(\"tinydict['School']: \", tinydict[\"School\"])\n",
    "# 这会引发一个异常，因为用执行 del 操作后字典不再存在"
   ]
  },
  {
   "cell_type": "markdown",
   "metadata": {},
   "source": [
    "## 字典内置函数&方法"
   ]
  },
  {
   "cell_type": "markdown",
   "metadata": {},
   "source": [
    "## 内置函数"
   ]
  },
  {
   "cell_type": "code",
   "execution_count": 11,
   "metadata": {},
   "outputs": [
    {
     "data": {
      "text/plain": [
       "3"
      ]
     },
     "execution_count": 11,
     "metadata": {},
     "output_type": "execute_result"
    }
   ],
   "source": [
    "tinydict = {\"Name\": \"Ethanwhh\", \"Age\": 20, \"Class\": \"First\"}\n",
    "\n",
    "len(tinydict)"
   ]
  },
  {
   "cell_type": "code",
   "execution_count": 12,
   "metadata": {},
   "outputs": [
    {
     "data": {
      "text/plain": [
       "\"{'Name': 'Ethanwhh', 'Age': 20, 'Class': 'First'}\""
      ]
     },
     "execution_count": 12,
     "metadata": {},
     "output_type": "execute_result"
    }
   ],
   "source": [
    "tinydict = {\"Name\": \"Ethanwhh\", \"Age\": 20, \"Class\": \"First\"}\n",
    "\n",
    "str(tinydict)\n"
   ]
  },
  {
   "cell_type": "code",
   "execution_count": 13,
   "metadata": {},
   "outputs": [
    {
     "data": {
      "text/plain": [
       "dict"
      ]
     },
     "execution_count": 13,
     "metadata": {},
     "output_type": "execute_result"
    }
   ],
   "source": [
    "tinydict = {\"Name\": \"Ethanwhh\", \"Age\": 20, \"Class\": \"First\"}\n",
    "\n",
    "type(tinydict)"
   ]
  },
  {
   "cell_type": "markdown",
   "metadata": {},
   "source": [
    "## 内置方法"
   ]
  },
  {
   "cell_type": "code",
   "execution_count": 14,
   "metadata": {},
   "outputs": [
    {
     "name": "stdout",
     "output_type": "stream",
     "text": [
      "字典长度 : 2\n",
      "字典删除后长度 : 0\n"
     ]
    }
   ],
   "source": [
    "tinydict = {\"Name\": \"Ethanwhh\", \"Age\": 20}\n",
    "\n",
    "print(\"字典长度 : %d\" % len(tinydict))\n",
    "tinydict.clear()\n",
    "print(\"字典删除后长度 : %d\" % len(tinydict))"
   ]
  },
  {
   "cell_type": "code",
   "execution_count": null,
   "metadata": {},
   "outputs": [
    {
     "name": "stdout",
     "output_type": "stream",
     "text": [
      "新的字典为 : {'name': None, 'age': None, 'sex': None}\n",
      "新的字典为 : {'name': 10, 'age': 10, 'sex': 10}\n"
     ]
    }
   ],
   "source": [
    "# fromkeys() 函数用于创建一个新字典，以序列 seq 中元素做字典的键，value 为字典所有键对应的初始值。\n",
    "seq = (\"name\", \"age\", \"sex\")\n",
    "\n",
    "tinydict = dict.fromkeys(seq)\n",
    "print(\"新的字典为 : %s\" % str(tinydict))\n",
    "\n",
    "tinydict = dict.fromkeys(seq, 10)\n",
    "print(\"新的字典为 : %s\" % str(tinydict))"
   ]
  },
  {
   "cell_type": "code",
   "execution_count": 16,
   "metadata": {},
   "outputs": [
    {
     "name": "stdout",
     "output_type": "stream",
     "text": [
      "删除的元素为: Ethanwhh\n",
      "字典为: {'age': 20, 'url': 'Ethanwhh.github.io'}\n"
     ]
    }
   ],
   "source": [
    "site = {\"name\": \"Ethanwhh\", \"age\": 20,  \"url\": \"Ethanwhh.github.io\"}\n",
    "\n",
    "element = site.pop(\"name\")\n",
    "\n",
    "print(\"删除的元素为:\", element)\n",
    "print(\"字典为:\", site)"
   ]
  },
  {
   "cell_type": "code",
   "execution_count": 17,
   "metadata": {},
   "outputs": [
    {
     "name": "stdout",
     "output_type": "stream",
     "text": [
      "Age 键的值为 : 20\n",
      "Sex 键的值为 : None\n",
      "新字典为： {'Name': 'Ethanwhh', 'Age': 20, 'Sex': None}\n"
     ]
    }
   ],
   "source": [
    "tinydict = {\"Name\": \"Ethanwhh\", \"Age\": 20}\n",
    "\n",
    "print(\"Age 键的值为 : %s\" % tinydict.setdefault(\"Age\", None))\n",
    "print(\"Sex 键的值为 : %s\" % tinydict.setdefault(\"Sex\", None))\n",
    "print(\"新字典为：\", tinydict)"
   ]
  },
  {
   "cell_type": "code",
   "execution_count": 18,
   "metadata": {},
   "outputs": [
    {
     "name": "stdout",
     "output_type": "stream",
     "text": [
      "更新字典 tinydict :  {'Name': 'Ethanwhh', 'Age': 20, 'Sex': 'male'}\n"
     ]
    }
   ],
   "source": [
    "tinydict = {\"Name\": \"Ethanwhh\", \"Age\": 20}\n",
    "tinydict2 = {\"Sex\": \"male\"}\n",
    "\n",
    "tinydict.update(tinydict2)\n",
    "print(\"更新字典 tinydict : \", tinydict)"
   ]
  }
 ],
 "metadata": {
  "kernelspec": {
   "display_name": "base",
   "language": "python",
   "name": "python3"
  },
  "language_info": {
   "codemirror_mode": {
    "name": "ipython",
    "version": 3
   },
   "file_extension": ".py",
   "mimetype": "text/x-python",
   "name": "python",
   "nbconvert_exporter": "python",
   "pygments_lexer": "ipython3",
   "version": "3.9.13"
  }
 },
 "nbformat": 4,
 "nbformat_minor": 2
}
