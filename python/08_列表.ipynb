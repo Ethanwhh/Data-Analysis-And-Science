{
 "cells": [
  {
   "cell_type": "markdown",
   "metadata": {},
   "source": [
    "# 列表"
   ]
  },
  {
   "cell_type": "markdown",
   "metadata": {},
   "source": [
    "序列是 Python 中最基本的数据结构。\n",
    "\n",
    "序列中的每个值都有对应的位置值，称之为索引，第一个索引是 0，第二个索引是 1，依此类推。\n",
    "\n",
    "Python 有 6 个序列的内置类型，但最常见的是列表和元组。\n",
    "\n",
    "列表都可以进行的操作包括索引，切片，加，乘，检查成员。\n",
    "\n",
    "此外，Python 已经内置确定序列的长度以及确定最大和最小的元素的方法。\n",
    "\n",
    "列表是最常用的 Python 数据类型，它可以作为一个方括号内的逗号分隔值出现。\n",
    "\n",
    "列表的数据项不需要具有相同的类型。\n",
    "\n",
    "创建一个列表，只要把逗号分隔的不同的数据项使用方括号括起来即可。"
   ]
  },
  {
   "cell_type": "markdown",
   "metadata": {},
   "source": [
    "## 访问列表中的值"
   ]
  },
  {
   "cell_type": "code",
   "execution_count": 1,
   "metadata": {},
   "outputs": [
    {
     "name": "stdout",
     "output_type": "stream",
     "text": [
      "red\n",
      "green\n",
      "blue\n"
     ]
    }
   ],
   "source": [
    "list = [\"red\", \"green\", \"blue\", \"yellow\", \"white\", \"black\"]\n",
    "print(list[0])\n",
    "print(list[1])\n",
    "print(list[2])"
   ]
  },
  {
   "cell_type": "code",
   "execution_count": 2,
   "metadata": {},
   "outputs": [
    {
     "name": "stdout",
     "output_type": "stream",
     "text": [
      "black\n",
      "white\n",
      "yellow\n"
     ]
    }
   ],
   "source": [
    "list = [\"red\", \"green\", \"blue\", \"yellow\", \"white\", \"black\"]\n",
    "print(list[-1])\n",
    "print(list[-2])\n",
    "print(list[-3])"
   ]
  },
  {
   "cell_type": "code",
   "execution_count": 4,
   "metadata": {},
   "outputs": [
    {
     "name": "stdout",
     "output_type": "stream",
     "text": [
      "[10, 20, 30, 40]\n"
     ]
    }
   ],
   "source": [
    "nums = [10, 20, 30, 40, 50, 60, 70, 80, 90]\n",
    "print(nums[0:4])"
   ]
  },
  {
   "cell_type": "code",
   "execution_count": 5,
   "metadata": {},
   "outputs": [
    {
     "name": "stdout",
     "output_type": "stream",
     "text": [
      "list[1]:  Ethanwhh\n",
      "list[1:-2]:  ['Ethanwhh', 'Zhihu']\n"
     ]
    }
   ],
   "source": [
    "list = [\"Google\", \"Ethanwhh\", \"Zhihu\", \"Taobao\", \"Facebook\"]\n",
    "\n",
    "# 读取第二位\n",
    "print(\"list[1]: \", list[1])\n",
    "# 从第二位开始（包含）截取到倒数第二位（不包含）\n",
    "print(\"list[1:-2]: \", list[1:-2])"
   ]
  },
  {
   "cell_type": "markdown",
   "metadata": {},
   "source": [
    "## 更新列表"
   ]
  },
  {
   "cell_type": "code",
   "execution_count": 6,
   "metadata": {},
   "outputs": [
    {
     "name": "stdout",
     "output_type": "stream",
     "text": [
      "第三个元素为 :  1997\n",
      "更新后的第三个元素为 :  2001\n",
      "更新后的列表 :  ['Google', 'Ethanwhh', 'Taobao', 'Baidu']\n"
     ]
    }
   ],
   "source": [
    "list = [\"Google\", \"Ethanwhh\", 1997, 2004]\n",
    "\n",
    "print(\"第三个元素为 : \", list[2])\n",
    "list[2] = 2001\n",
    "print(\"更新后的第三个元素为 : \", list[2])\n",
    "\n",
    "list1 = [\"Google\", \"Ethanwhh\", \"Taobao\"]\n",
    "list1.append(\"Baidu\")\n",
    "print(\"更新后的列表 : \", list1)"
   ]
  },
  {
   "cell_type": "markdown",
   "metadata": {},
   "source": [
    "## 删除列表元素"
   ]
  },
  {
   "cell_type": "code",
   "execution_count": 7,
   "metadata": {},
   "outputs": [
    {
     "name": "stdout",
     "output_type": "stream",
     "text": [
      "原始列表 :  ['Google', 'Ethanwhh', 1997, 2004]\n",
      "删除第三个元素 :  ['Google', 'Ethanwhh', 2004]\n"
     ]
    }
   ],
   "source": [
    "list = [\"Google\", \"Ethanwhh\", 1997, 2004]\n",
    "\n",
    "print(\"原始列表 : \", list)\n",
    "del list[2]\n",
    "print(\"删除第三个元素 : \", list)"
   ]
  },
  {
   "cell_type": "markdown",
   "metadata": {},
   "source": [
    "## 列表脚本操作符"
   ]
  },
  {
   "cell_type": "code",
   "execution_count": 10,
   "metadata": {},
   "outputs": [
    {
     "name": "stdout",
     "output_type": "stream",
     "text": [
      "3\n",
      "[1, 2, 3, 4, 5, 6]\n",
      "[1, 2, 3, 1, 2, 3, 1, 2, 3]\n",
      "True\n",
      "1 2 3 "
     ]
    }
   ],
   "source": [
    "print(len([1, 2, 3]))\n",
    "\n",
    "print([1, 2, 3] + [4, 5, 6])\n",
    "\n",
    "print([1, 2, 3] * 3)\n",
    "\n",
    "print(3 in [1, 2, 3])\n",
    "\n",
    "for i in [1, 2, 3]: \n",
    "  print(i, end=' ')"
   ]
  },
  {
   "cell_type": "markdown",
   "metadata": {},
   "source": [
    "## 嵌套列表"
   ]
  },
  {
   "cell_type": "code",
   "execution_count": 11,
   "metadata": {},
   "outputs": [
    {
     "name": "stdout",
     "output_type": "stream",
     "text": [
      "[['a', 'b', 'c'], [1, 2, 3]]\n",
      "['a', 'b', 'c']\n",
      "b\n"
     ]
    }
   ],
   "source": [
    "a = [\"a\", \"b\", \"c\"]\n",
    "b = [1, 2, 3]\n",
    "x = [a, b]\n",
    "print(x)\n",
    "print(x[0])\n",
    "print(x[0][1])"
   ]
  },
  {
   "cell_type": "markdown",
   "metadata": {},
   "source": [
    "## 列表比较"
   ]
  },
  {
   "cell_type": "code",
   "execution_count": 12,
   "metadata": {},
   "outputs": [
    {
     "name": "stdout",
     "output_type": "stream",
     "text": [
      "operator.eq(a,b):  False\n",
      "operator.eq(c,b):  True\n"
     ]
    }
   ],
   "source": [
    "# 导入 operator 模块\n",
    "import operator\n",
    "\n",
    "a = [1, 2]\n",
    "b = [2, 3]\n",
    "c = [2, 3]\n",
    "print(\"operator.eq(a,b): \", operator.eq(a, b))\n",
    "print(\"operator.eq(c,b): \", operator.eq(c, b))"
   ]
  },
  {
   "cell_type": "markdown",
   "metadata": {},
   "source": [
    "## 列表函数和方法"
   ]
  },
  {
   "cell_type": "code",
   "execution_count": 14,
   "metadata": {},
   "outputs": [
    {
     "name": "stdout",
     "output_type": "stream",
     "text": [
      "5\n",
      "5\n",
      "1\n",
      "15\n",
      "[1, 2, 3, 4, 5, 6]\n",
      "[1, 2, 7, 3, 4, 5, 6]\n",
      "[1, 2, 3, 4, 5, 6]\n",
      "[1, 2, 3, 4, 5]\n",
      "[1, 2, 4, 5]\n",
      "[5, 4, 2, 1]\n",
      "[1, 2, 4, 5]\n",
      "[]\n"
     ]
    }
   ],
   "source": [
    "#函数\n",
    "list = [1, 2, 3, 4, 5]\n",
    "print(len(list))\n",
    "\n",
    "print(max(list))\n",
    "\n",
    "print(min(list))\n",
    "\n",
    "print(sum(list))\n",
    "\n",
    "#方法\n",
    "list.append(6)\n",
    "print(list)\n",
    "\n",
    "list.insert(2, 7)\n",
    "print(list)\n",
    "\n",
    "list.remove(7)\n",
    "print(list)\n",
    "\n",
    "list.pop()\n",
    "print(list)\n",
    "\n",
    "list.pop(2)\n",
    "print(list)\n",
    "\n",
    "list.reverse()\n",
    "print(list)\n",
    "\n",
    "list.sort()\n",
    "print(list)\n",
    "\n",
    "list.clear()\n",
    "print(list) "
   ]
  }
 ],
 "metadata": {
  "kernelspec": {
   "display_name": "base",
   "language": "python",
   "name": "python3"
  },
  "language_info": {
   "codemirror_mode": {
    "name": "ipython",
    "version": 3
   },
   "file_extension": ".py",
   "mimetype": "text/x-python",
   "name": "python",
   "nbconvert_exporter": "python",
   "pygments_lexer": "ipython3",
   "version": "3.9.13"
  }
 },
 "nbformat": 4,
 "nbformat_minor": 2
}
