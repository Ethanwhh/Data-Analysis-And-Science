{
 "cells": [
  {
   "cell_type": "markdown",
   "metadata": {},
   "source": [
    "# 条件控制"
   ]
  },
  {
   "cell_type": "markdown",
   "metadata": {},
   "source": [
    "Python 条件语句是通过一条或多条语句的执行结果（True 或者 False）来决定执行的代码块。"
   ]
  },
  {
   "cell_type": "markdown",
   "metadata": {},
   "source": [
    "## if 语句"
   ]
  },
  {
   "cell_type": "markdown",
   "metadata": {},
   "source": [
    "Python中if语句的一般形式如下所示："
   ]
  },
  {
   "cell_type": "code",
   "execution_count": null,
   "metadata": {},
   "outputs": [],
   "source": [
    "if condition_1:\n",
    "    statement_block_1\n",
    "elif condition_2:\n",
    "    statement_block_2\n",
    "else:\n",
    "    statement_block_3"
   ]
  },
  {
   "cell_type": "markdown",
   "metadata": {},
   "source": [
    "- 如果 \"condition_1\" 为 True 将执行 \"statement_block_1\" 块语句。\n",
    "\n",
    "- 如果 \"condition_1\" 为False，将判断 \"condition_2\"。\n",
    "\n",
    "- 如果\"condition_2\" 为 True 将执行 \"statement_block_2\" 块语句。\n",
    "\n",
    "- 如果 \"condition_2\" 为False，将执行\"statement_block_3\"块语句。\n",
    "\n",
    "Python 中用 elif 代替了 else if，所以if语句的关键字为：if – elif – else。"
   ]
  },
  {
   "cell_type": "markdown",
   "metadata": {},
   "source": [
    "**注意：**\n",
    "\n",
    "1、每个条件后面要使用冒号 :，表示接下来是满足条件后要执行的语句块。\n",
    "\n",
    "2、使用缩进来划分语句块，相同缩进数的语句在一起组成一个语句块。\n",
    "\n",
    "3、在 Python 中没有 switch...case 语句，但在 Python3.10 版本添加了 match...case，功能也类似，详见下文。"
   ]
  },
  {
   "cell_type": "code",
   "execution_count": 1,
   "metadata": {},
   "outputs": [
    {
     "name": "stdout",
     "output_type": "stream",
     "text": [
      "1 - if 表达式条件为 true\n",
      "100\n",
      "Good bye!\n"
     ]
    }
   ],
   "source": [
    "var1 = 100\n",
    "if var1:\n",
    "    print(\"1 - if 表达式条件为 true\")\n",
    "    print(var1)\n",
    "\n",
    "var2 = 0\n",
    "if var2:\n",
    "    print(\"2 - if 表达式条件为 true\")\n",
    "    print(var2)\n",
    "print(\"Good bye!\")"
   ]
  },
  {
   "cell_type": "code",
   "execution_count": null,
   "metadata": {},
   "outputs": [
    {
     "name": "stdout",
     "output_type": "stream",
     "text": [
      "数字猜谜游戏!\n",
      "猜的数字小了...\n",
      "猜的数字小了...\n",
      "猜的数字小了...\n",
      "恭喜，你猜对了！\n"
     ]
    }
   ],
   "source": [
    "# 该实例演示了数字猜谜游戏\n",
    "number = 7\n",
    "guess = -1\n",
    "print(\"数字猜谜游戏!\")\n",
    "while guess != number:\n",
    "    guess = int(input(\"请输入你猜的数字：\"))\n",
    "\n",
    "    if guess == number:\n",
    "        print(\"恭喜，你猜对了！\")\n",
    "    elif guess < number:\n",
    "        print(\"猜的数字小了...\")\n",
    "    elif guess > number:\n",
    "        print(\"猜的数字大了...\")\n",
    "#这边我依次输入4、5、6、7。        "
   ]
  },
  {
   "cell_type": "markdown",
   "metadata": {},
   "source": [
    "## if 嵌套"
   ]
  },
  {
   "cell_type": "markdown",
   "metadata": {},
   "source": [
    "在嵌套 if 语句中，可以把 if...elif...else 结构放在另外一个 if...elif...else 结构中。"
   ]
  },
  {
   "cell_type": "code",
   "execution_count": null,
   "metadata": {},
   "outputs": [
    {
     "name": "stdout",
     "output_type": "stream",
     "text": [
      "你输入的数字可以整除 2 和 3\n"
     ]
    }
   ],
   "source": [
    "num = int(input(\"输入一个数字：\"))\n",
    "if num % 2 == 0:\n",
    "    if num % 3 == 0:\n",
    "        print(\"你输入的数字可以整除 2 和 3\")\n",
    "    else:\n",
    "        print(\"你输入的数字可以整除 2，但不能整除 3\")\n",
    "else:\n",
    "    if num % 3 == 0:\n",
    "        print(\"你输入的数字可以整除 3，但不能整除 2\")\n",
    "    else:\n",
    "        print(\"你输入的数字不能整除 2 和 3\")\n",
    "#我输入6后结果如下。"
   ]
  },
  {
   "cell_type": "markdown",
   "metadata": {},
   "source": [
    "## match...case"
   ]
  },
  {
   "cell_type": "markdown",
   "metadata": {},
   "source": [
    "Python 3.10 增加了 match...case 的条件判断，不需要再使用一连串的 if-else 来判断了。\n",
    "\n",
    "match 后的对象会依次与 case 后的内容进行匹配，如果匹配成功，则执行匹配到的表达式，否则直接跳过，_ 可以匹配一切。"
   ]
  },
  {
   "cell_type": "code",
   "execution_count": 1,
   "metadata": {},
   "outputs": [
    {
     "name": "stdout",
     "output_type": "stream",
     "text": [
      "Bad request\n"
     ]
    }
   ],
   "source": [
    "def http_error(status):\n",
    "    match status:\n",
    "        case 400:\n",
    "            return \"Bad request\"\n",
    "        case 404:\n",
    "            return \"Not found\"\n",
    "        case 418:\n",
    "            return \"I'm a teapot\"\n",
    "        case _:\n",
    "            return \"Something's wrong with the internet\"\n",
    "\n",
    "\n",
    "mystatus = 400\n",
    "print(http_error(400))"
   ]
  }
 ],
 "metadata": {
  "kernelspec": {
   "display_name": "Python 3",
   "language": "python",
   "name": "python3"
  },
  "language_info": {
   "codemirror_mode": {
    "name": "ipython",
    "version": 3
   },
   "file_extension": ".py",
   "mimetype": "text/x-python",
   "name": "python",
   "nbconvert_exporter": "python",
   "pygments_lexer": "ipython3",
   "version": "3.10.8"
  }
 },
 "nbformat": 4,
 "nbformat_minor": 2
}
