{
 "cells": [
  {
   "cell_type": "markdown",
   "metadata": {},
   "source": [
    "# 基础语法"
   ]
  },
  {
   "cell_type": "markdown",
   "metadata": {},
   "source": [
    "## 标识符"
   ]
  },
  {
   "cell_type": "markdown",
   "metadata": {},
   "source": [
    "- 第一个字符必须是字母表中字母或下划线 _ 。\n",
    "\n",
    "- 标识符的其他的部分由字母、数字和下划线组成。\n",
    "\n",
    "- 标识符对大小写敏感。"
   ]
  },
  {
   "cell_type": "markdown",
   "metadata": {},
   "source": [
    "## 保留字（关键字）"
   ]
  },
  {
   "cell_type": "markdown",
   "metadata": {},
   "source": [
    "保留字即关键字，我们不能把它们用作任何标识符名称。  \n",
    "\n",
    "Python 的标准库提供了一个 keyword 模块，可以输出当前版本的所有关键字。"
   ]
  },
  {
   "cell_type": "code",
   "execution_count": null,
   "metadata": {},
   "outputs": [
    {
     "name": "stdout",
     "output_type": "stream",
     "text": [
      "['False', 'None', 'True', '__peg_parser__', 'and', 'as', 'assert', 'async', 'await', 'break', 'class', 'continue', 'def', 'del', 'elif', 'else', 'except', 'finally', 'for', 'from', 'global', 'if', 'import', 'in', 'is', 'lambda', 'nonlocal', 'not', 'or', 'pass', 'raise', 'return', 'try', 'while', 'with', 'yield']\n"
     ]
    },
    {
     "data": {
      "text/plain": [
       "['False',\n",
       " 'None',\n",
       " 'True',\n",
       " '__peg_parser__',\n",
       " 'and',\n",
       " 'as',\n",
       " 'assert',\n",
       " 'async',\n",
       " 'await',\n",
       " 'break',\n",
       " 'class',\n",
       " 'continue',\n",
       " 'def',\n",
       " 'del',\n",
       " 'elif',\n",
       " 'else',\n",
       " 'except',\n",
       " 'finally',\n",
       " 'for',\n",
       " 'from',\n",
       " 'global',\n",
       " 'if',\n",
       " 'import',\n",
       " 'in',\n",
       " 'is',\n",
       " 'lambda',\n",
       " 'nonlocal',\n",
       " 'not',\n",
       " 'or',\n",
       " 'pass',\n",
       " 'raise',\n",
       " 'return',\n",
       " 'try',\n",
       " 'while',\n",
       " 'with',\n",
       " 'yield']"
      ]
     },
     "execution_count": 3,
     "metadata": {},
     "output_type": "execute_result"
    }
   ],
   "source": [
    "import keyword\n",
    "print(keyword.kwlist)\n",
    "keyword.kwlist"
   ]
  },
  {
   "cell_type": "markdown",
   "metadata": {},
   "source": [
    "## 注释"
   ]
  },
  {
   "cell_type": "code",
   "execution_count": 2,
   "metadata": {},
   "outputs": [
    {
     "name": "stdout",
     "output_type": "stream",
     "text": [
      "Hello, world!\n"
     ]
    }
   ],
   "source": [
    "#第一个注释\n",
    "'''\n",
    "第二个注释\n",
    "第三个注释\n",
    "''' \n",
    "print(\"Hello, world!\") # 输出Hello, world!"
   ]
  },
  {
   "cell_type": "markdown",
   "metadata": {},
   "source": [
    "## 行与缩进"
   ]
  },
  {
   "cell_type": "code",
   "execution_count": 4,
   "metadata": {},
   "outputs": [
    {
     "name": "stdout",
     "output_type": "stream",
     "text": [
      "True\n"
     ]
    }
   ],
   "source": [
    "if True:\n",
    "    print(\"True\")\n",
    "else:\n",
    "    print(\"False\")"
   ]
  },
  {
   "cell_type": "code",
   "execution_count": 6,
   "metadata": {},
   "outputs": [
    {
     "ename": "IndentationError",
     "evalue": "unindent does not match any outer indentation level (<tokenize>, line 6)",
     "output_type": "error",
     "traceback": [
      "\u001b[1;36m  File \u001b[1;32m\"<tokenize>\"\u001b[1;36m, line \u001b[1;32m6\u001b[0m\n\u001b[1;33m    print (\"False\")    # 缩进不一致，会导致运行错误\u001b[0m\n\u001b[1;37m    ^\u001b[0m\n\u001b[1;31mIndentationError\u001b[0m\u001b[1;31m:\u001b[0m unindent does not match any outer indentation level\n"
     ]
    }
   ],
   "source": [
    "if True:\n",
    "    print (\"Answer\")\n",
    "    print (\"True\")\n",
    "else:\n",
    "    print (\"Answer\")\n",
    "  print (\"False\")    # 缩进不一致，会导致运行错误"
   ]
  },
  {
   "cell_type": "markdown",
   "metadata": {},
   "source": [
    "## 多行语句"
   ]
  },
  {
   "cell_type": "markdown",
   "metadata": {},
   "source": [
    "Python 通常是一行写完一条语句，但如果语句很长，我们可以使用反斜杠 \\ 来实现多行语句。 \n",
    " \n",
    "在 [], {}, 或 () 中的多行语句，不需要使用反斜杠 \\。"
   ]
  },
  {
   "cell_type": "code",
   "execution_count": 9,
   "metadata": {},
   "outputs": [
    {
     "data": {
      "text/plain": [
       "6"
      ]
     },
     "execution_count": 9,
     "metadata": {},
     "output_type": "execute_result"
    }
   ],
   "source": [
    "total = 1 + \\\n",
    "        2 + \\\n",
    "        3\n",
    "total"
   ]
  },
  {
   "cell_type": "markdown",
   "metadata": {},
   "source": [
    "## 数字类型"
   ]
  },
  {
   "cell_type": "markdown",
   "metadata": {},
   "source": [
    "python中数字有四种类型：整数、布尔型、浮点数和复数。\n",
    "- int (整数), 如 1, 只有一种整数类型 int，表示为长整型，没有 python2 中的 Long。\n",
    "\n",
    "- bool (布尔), 如 True。\n",
    "\n",
    "- float (浮点数), 如 1.23、3E-2。\n",
    "\n",
    "- complex (复数) - 复数由实部和虚部组成，形式为 a + bj，其中 a 是实部，b 是虚部，j 表示虚数单位。如 1 + 2j、 1.1 + 2.2j。"
   ]
  },
  {
   "cell_type": "markdown",
   "metadata": {},
   "source": [
    "## 字符串"
   ]
  },
  {
   "cell_type": "markdown",
   "metadata": {},
   "source": [
    "Python 中单引号 ' 和双引号 \" 使用完全相同。  \n",
    "\n",
    "使用三引号(''' 或 \"\"\")可以指定一个多行字符串。  \n",
    "\n",
    "转义符 \\。  \n",
    "\n",
    "反斜杠可以用来转义，使用 r 可以让反斜杠不发生转义。 如 r\"this is a line with \\n\" 则 \\n 会显示，并不是换行。  \n",
    "\n",
    "按字面意义级联字符串，如 \"this \" \"is \" \"string\" 会被自动转换为 this is string。  \n",
    "\n",
    "字符串可以用 + 运算符连接在一起，用 * 运算符重复。  \n",
    "\n",
    "Python 中的字符串有两种索引方式，从左往右以 0 开始，从右往左以 -1 开始。 \n",
    "\n",
    "Python 中的字符串不能改变。  \n",
    "\n",
    "Python 没有单独的字符类型，一个字符就是长度为 1 的字符串。  \n",
    "\n",
    "字符串切片 str[start:end]，其中 start（包含）是切片开始的索引，end（不包含）是切片结束的索引。 \n",
    " \n",
    "字符串的切片可以加上步长参数 step，语法格式如下：str[start:end:step]。"
   ]
  },
  {
   "cell_type": "code",
   "execution_count": null,
   "metadata": {},
   "outputs": [
    {
     "name": "stdout",
     "output_type": "stream",
     "text": [
      "字符串 这是一个句子。 这是一个段落，\n",
      "可以由多行组成\n",
      "1\n",
      "2\n",
      "3\n",
      "\n"
     ]
    }
   ],
   "source": [
    "word = \"字符串\"\n",
    "sentence = \"这是一个句子。\"\n",
    "paragraph = \"\"\"这是一个段落，\n",
    "可以由多行组成\n",
    "1\n",
    "2\n",
    "3\n",
    "\"\"\"\n",
    "print(word, sentence, paragraph)"
   ]
  },
  {
   "cell_type": "code",
   "execution_count": 1,
   "metadata": {},
   "outputs": [
    {
     "name": "stdout",
     "output_type": "stream",
     "text": [
      "123456789\n",
      "12345678\n",
      "1\n",
      "345\n",
      "3456789\n",
      "24\n",
      "123456789123456789\n",
      "123456789你好\n",
      "------------------------------\n",
      "hello\n",
      "Ethanwhh\n",
      "hello\\nEthanwhh\n",
      "\n",
      "\n",
      "\\n\n"
     ]
    }
   ],
   "source": [
    "str = \"123456789\"  # 定义字符串\n",
    "print(str)  # 输出字符串\n",
    "print(str[0:-1])  # 输出第一个到倒数第二个的所有字符\n",
    "print(str[0])  # 输出字符串第一个字符\n",
    "print(str[2:5])  # 输出从第三个开始到第六个的字符（不包含）\n",
    "print(str[2:])  # 输出从第三个开始后的所有字符\n",
    "print(str[1:5:2])  # 输出从第二个开始到第五个且每隔一个的字符（步长为2）\n",
    "print(str * 2)  # 输出字符串两次\n",
    "print(str + \"你好\")  # 连接字符串\n",
    "print(\"------------------------------\")\n",
    "print(\"hello\\nEthanwhh\")  # 使用反斜杠(\\)+n转义特殊字符\n",
    "print(r\"hello\\nEthanwhh\")  # 在字符串前面添加一个 r，表示原始字符串，不会发生转义\n",
    "print('\\n') #print函数自带换行符\n",
    "print(r\"\\n\")"
   ]
  },
  {
   "cell_type": "markdown",
   "metadata": {},
   "source": [
    "## 空行"
   ]
  },
  {
   "cell_type": "markdown",
   "metadata": {},
   "source": [
    "函数之间或类的方法之间用空行分隔，表示一段新的代码的开始。类和函数入口之间也用一行空行分隔，以突出函数入口的开始。  \n",
    "\n",
    "空行与代码缩进不同，**空行并不是 Python 语法的一部分**。书写时不插入空行，Python 解释器运行也不会出错。但是空行的作用在于分隔两段不同功能或含义的代码，便于日后代码的维护或重构。  \n",
    "\n",
    "记住：**空行也是程序代码的一部分**。"
   ]
  },
  {
   "cell_type": "markdown",
   "metadata": {},
   "source": [
    "## 同一行显示多条语句"
   ]
  },
  {
   "cell_type": "markdown",
   "metadata": {},
   "source": [
    "Python 可以在同一行中使用多条语句，语句之间使用分号 ; 分割。"
   ]
  },
  {
   "cell_type": "code",
   "execution_count": 2,
   "metadata": {},
   "outputs": [
    {
     "name": "stdout",
     "output_type": "stream",
     "text": [
      "Ethanwhh\n"
     ]
    },
    {
     "data": {
      "text/plain": [
       "9"
      ]
     },
     "execution_count": 2,
     "metadata": {},
     "output_type": "execute_result"
    }
   ],
   "source": [
    "import sys\n",
    "x = \"Ethanwhh\"\n",
    "sys.stdout.write(x + \"\\n\")"
   ]
  },
  {
   "cell_type": "markdown",
   "metadata": {},
   "source": [
    "此处的 9 表示字符数，Ethanwhh 有 8 个字符，\\n 表示一个字符，加起来 9 个字符。"
   ]
  },
  {
   "cell_type": "markdown",
   "metadata": {},
   "source": [
    "## Print输出"
   ]
  },
  {
   "cell_type": "markdown",
   "metadata": {},
   "source": [
    "print 默认输出是换行的，如果要实现不换行需要在变量末尾加上 end=\"\"。"
   ]
  },
  {
   "cell_type": "code",
   "execution_count": 19,
   "metadata": {},
   "outputs": [
    {
     "name": "stdout",
     "output_type": "stream",
     "text": [
      "a\n",
      "b\n",
      "---------\n",
      "a b "
     ]
    }
   ],
   "source": [
    "x = \"a\"\n",
    "y = \"b\"\n",
    "# 换行输出\n",
    "print(x)\n",
    "print(y)\n",
    "print(\"---------\")\n",
    "# 不换行输出\n",
    "print(x, end=\" \")\n",
    "print(y, end=\" \")"
   ]
  },
  {
   "cell_type": "markdown",
   "metadata": {},
   "source": [
    "## import 与 from...import"
   ]
  },
  {
   "cell_type": "markdown",
   "metadata": {},
   "source": [
    "在 python 用 import 或者 from...import 来导入相应的模块。  \n",
    "\n",
    "将整个模块(somemodule)导入，格式为： import somemodule     \n",
    "\n",
    "从某个模块中导入某个函数,格式为： from somemodule import somefunction    \n",
    "\n",
    "从某个模块中导入多个函数,格式为： from somemodule import firstfunc, secondfunc, thirdfunc  \n",
    "\n",
    "将某个模块中的全部函数导入，格式为： from somemodule import *  "
   ]
  },
  {
   "cell_type": "markdown",
   "metadata": {},
   "source": [
    "## 命令行参数"
   ]
  },
  {
   "cell_type": "markdown",
   "metadata": {},
   "source": [
    "很多程序可以执行一些操作来查看一些基本信息，Python可以使用-h参数查看各参数帮助信息。"
   ]
  },
  {
   "cell_type": "code",
   "execution_count": 21,
   "metadata": {},
   "outputs": [
    {
     "name": "stdout",
     "output_type": "stream",
     "text": [
      "usage: python [option] ... [-c cmd | -m mod | file | -] [arg] ...\n",
      "Options and arguments (and corresponding environment variables):\n",
      "-b     : issue warnings about str(bytes_instance), str(bytearray_instance)\n",
      "         and comparing bytes/bytearray with str. (-bb: issue errors)\n",
      "-B     : don't write .pyc files on import; also PYTHONDONTWRITEBYTECODE=x\n",
      "-c cmd : program passed in as string (terminates option list)\n",
      "-d     : turn on parser debugging output (for experts only, only works on\n",
      "         debug builds); also PYTHONDEBUG=x\n",
      "-E     : ignore PYTHON* environment variables (such as PYTHONPATH)\n",
      "-h     : print this help message and exit (also --help)\n",
      "-i     : inspect interactively after running script; forces a prompt even\n",
      "         if stdin does not appear to be a terminal; also PYTHONINSPECT=x\n",
      "-I     : isolate Python from the user's environment (implies -E and -s)\n",
      "-m mod : run library module as a script (terminates option list)\n",
      "-O     : remove assert and __debug__-dependent statements; add .opt-1 before\n",
      "         .pyc extension; also PYTHONOPTIMIZE=x\n",
      "-OO    : do -O changes and also discard docstrings; add .opt-2 before\n",
      "         .pyc extension\n",
      "-q     : don't print version and copyright messages on interactive startup\n",
      "-s     : don't add user site directory to sys.path; also PYTHONNOUSERSITE\n",
      "-S     : don't imply 'import site' on initialization\n",
      "-u     : force the stdout and stderr streams to be unbuffered;\n",
      "         this option has no effect on stdin; also PYTHONUNBUFFERED=x\n",
      "-v     : verbose (trace import statements); also PYTHONVERBOSE=x\n",
      "         can be supplied multiple times to increase verbosity\n",
      "-V     : print the Python version number and exit (also --version)\n",
      "         when given twice, print more information about the build\n",
      "-W arg : warning control; arg is action:message:category:module:lineno\n",
      "         also PYTHONWARNINGS=arg\n",
      "-x     : skip first line of source, allowing use of non-Unix forms of #!cmd\n",
      "-X opt : set implementation-specific option. The following options are available:\n",
      "\n",
      "         -X faulthandler: enable faulthandler\n",
      "         -X oldparser: enable the traditional LL(1) parser; also PYTHONOLDPARSER\n",
      "         -X showrefcount: output the total reference count and number of used\n",
      "             memory blocks when the program finishes or after each statement in the\n",
      "             interactive interpreter. This only works on debug builds\n",
      "         -X tracemalloc: start tracing Python memory allocations using the\n",
      "             tracemalloc module. By default, only the most recent frame is stored in a\n",
      "             traceback of a trace. Use -X tracemalloc=NFRAME to start tracing with a\n",
      "             traceback limit of NFRAME frames\n",
      "         -X importtime: show how long each import takes. It shows module name,\n",
      "             cumulative time (including nested imports) and self time (excluding\n",
      "             nested imports). Note that its output may be broken in multi-threaded\n",
      "             application. Typical usage is python3 -X importtime -c 'import asyncio'\n",
      "         -X dev: enable CPython's \"development mode\", introducing additional runtime\n",
      "             checks which are too expensive to be enabled by default. Effect of the\n",
      "             developer mode:\n",
      "                * Add default warning filter, as -W default\n",
      "                * Install debug hooks on memory allocators: see the PyMem_SetupDebugHooks() C function\n",
      "                * Enable the faulthandler module to dump the Python traceback on a crash\n",
      "                * Enable asyncio debug mode\n",
      "                * Set the dev_mode attribute of sys.flags to True\n",
      "                * io.IOBase destructor logs close() exceptions\n",
      "         -X utf8: enable UTF-8 mode for operating system interfaces, overriding the default\n",
      "             locale-aware mode. -X utf8=0 explicitly disables UTF-8 mode (even when it would\n",
      "             otherwise activate automatically)\n",
      "         -X pycache_prefix=PATH: enable writing .pyc files to a parallel tree rooted at the\n",
      "             given directory instead of to the code tree\n",
      "\n",
      "--check-hash-based-pycs always|default|never:\n",
      "    control how Python invalidates hash-based .pyc files\n",
      "file   : program read from script file\n",
      "-      : program read from stdin (default; interactive mode if a tty)\n",
      "arg ...: arguments passed to program in sys.argv[1:]\n",
      "\n",
      "Other environment variables:\n",
      "PYTHONSTARTUP: file executed on interactive startup (no default)\n",
      "PYTHONPATH   : ';'-separated list of directories prefixed to the\n",
      "               default module search path.  The result is sys.path.\n",
      "PYTHONHOME   : alternate <prefix> directory (or <prefix>;<exec_prefix>).\n",
      "               The default module search path uses <prefix>\\python{major}{minor}.\n",
      "PYTHONPLATLIBDIR : override sys.platlibdir.\n",
      "PYTHONCASEOK : ignore case in 'import' statements (Windows).\n",
      "PYTHONUTF8: if set to 1, enable the UTF-8 mode.\n",
      "PYTHONIOENCODING: Encoding[:errors] used for stdin/stdout/stderr.\n",
      "PYTHONFAULTHANDLER: dump the Python traceback on fatal errors.\n",
      "PYTHONHASHSEED: if this variable is set to 'random', a random value is used\n",
      "   to seed the hashes of str and bytes objects.  It can also be set to an\n",
      "   integer in the range [0,4294967295] to get hash values with a\n",
      "   predictable seed.\n",
      "PYTHONMALLOC: set the Python memory allocators and/or install debug hooks\n",
      "   on Python memory allocators. Use PYTHONMALLOC=debug to install debug\n",
      "   hooks.\n",
      "PYTHONCOERCECLOCALE: if this variable is set to 0, it disables the locale\n",
      "   coercion behavior. Use PYTHONCOERCECLOCALE=warn to request display of\n",
      "   locale coercion and locale compatibility warnings on stderr.\n",
      "PYTHONBREAKPOINT: if this variable is set to 0, it disables the default\n",
      "   debugger. It can be set to the callable of your debugger of choice.\n",
      "PYTHONDEVMODE: enable the development mode.\n",
      "PYTHONPYCACHEPREFIX: root directory for bytecode cache (pyc) files.\n"
     ]
    }
   ],
   "source": [
    "!python -h"
   ]
  }
 ],
 "metadata": {
  "kernelspec": {
   "display_name": "base",
   "language": "python",
   "name": "python3"
  },
  "language_info": {
   "codemirror_mode": {
    "name": "ipython",
    "version": 3
   },
   "file_extension": ".py",
   "mimetype": "text/x-python",
   "name": "python",
   "nbconvert_exporter": "python",
   "pygments_lexer": "ipython3",
   "version": "3.9.13"
  }
 },
 "nbformat": 4,
 "nbformat_minor": 2
}
