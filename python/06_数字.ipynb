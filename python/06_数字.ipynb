{
 "cells": [
  {
   "cell_type": "markdown",
   "metadata": {},
   "source": [
    "# 数字"
   ]
  },
  {
   "cell_type": "markdown",
   "metadata": {},
   "source": [
    "Python 数字数据类型用于存储数值。\n",
    "\n",
    "数据类型是不允许改变的，这就意味着如果改变数字数据类型的值，将重新分配内存空间。"
   ]
  },
  {
   "cell_type": "markdown",
   "metadata": {},
   "source": [
    "Python 支持三种不同的数值类型：\n",
    "\n",
    "- 整型(int) - 通常被称为是整型或整数，是正或负整数，不带小数点。Python3 整型是没有限制大小的，可以当作 Long 类型使用，所以 Python3 没有 Python2 的 Long 类型。布尔(bool)是整型的子类型。\n",
    "\n",
    "- 浮点型(float) - 浮点型由整数部分与小数部分组成，浮点型也可以使用科学计数法表示（2.5e2 = 2.5 x 102 = 250）\n",
    "\n",
    "- 复数( (complex)) - 复数由实数部分和虚数部分构成，可以用a + bj,或者complex(a,b)表示， 复数的实部a和虚部b都是浮点型。"
   ]
  },
  {
   "cell_type": "markdown",
   "metadata": {},
   "source": [
    "我们可以使用十六进制和八进制来代表整数。"
   ]
  },
  {
   "cell_type": "code",
   "execution_count": 1,
   "metadata": {},
   "outputs": [
    {
     "name": "stdout",
     "output_type": "stream",
     "text": [
      "2575\n",
      "31\n"
     ]
    }
   ],
   "source": [
    "number1 = 0xA0F\n",
    "print(number1)\n",
    "\n",
    "number2 = 0o37\n",
    "print(number2)"
   ]
  },
  {
   "cell_type": "markdown",
   "metadata": {},
   "source": [
    "有时候，我们需要对数据内置的类型进行转换，数据类型的转换，你只需要将数据类型作为函数名即可。\n",
    "\n",
    "- int(x) 将x转换为一个整数。\n",
    "\n",
    "- float(x) 将x转换到一个浮点数。\n",
    "\n",
    "- complex(x) 将x转换到一个复数，实数部分为 x，虚数部分为 0。\n",
    "\n",
    "- complex(x, y) 将 x 和 y 转换到一个复数，实数部分为 x，虚数部分为 y。x 和 y 是数字表达式。"
   ]
  },
  {
   "cell_type": "markdown",
   "metadata": {},
   "source": [
    "**数学函数**"
   ]
  },
  {
   "cell_type": "code",
   "execution_count": 12,
   "metadata": {},
   "outputs": [
    {
     "name": "stdout",
     "output_type": "stream",
     "text": [
      "10\n",
      "4\n",
      "3\n",
      "2.718281828459045\n",
      "10.0\n",
      "2.0\n",
      "5\n",
      "1\n",
      "8\n",
      "4\n",
      "4.0\n"
     ]
    }
   ],
   "source": [
    "import math\n",
    "\n",
    "print(abs(-10))\n",
    "\n",
    "print(math.ceil(3.5))\n",
    "\n",
    "print(math.floor(3.5))\n",
    "\n",
    "print(math.exp(1))\n",
    "\n",
    "print(math.fabs(-10))\n",
    "\n",
    "print(math.log(100,10))\n",
    "\n",
    "print(max(1,2,3,4,5))\n",
    "\n",
    "print(min(1,2,3,4,5))\n",
    "\n",
    "print(pow(2,3))\n",
    "  \n",
    "print(round(3.5))\n",
    "\n",
    "print(math.sqrt(16))\n"
   ]
  }
 ],
 "metadata": {
  "kernelspec": {
   "display_name": "base",
   "language": "python",
   "name": "python3"
  },
  "language_info": {
   "codemirror_mode": {
    "name": "ipython",
    "version": 3
   },
   "file_extension": ".py",
   "mimetype": "text/x-python",
   "name": "python",
   "nbconvert_exporter": "python",
   "pygments_lexer": "ipython3",
   "version": "3.9.13"
  }
 },
 "nbformat": 4,
 "nbformat_minor": 2
}
