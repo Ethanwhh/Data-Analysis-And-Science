{
 "cells": [
  {
   "cell_type": "markdown",
   "metadata": {},
   "source": [
    "# 字符串"
   ]
  },
  {
   "cell_type": "markdown",
   "metadata": {},
   "source": [
    "字符串是 Python 中最常用的数据类型。我们可以使用引号( ' 或 \" )来创建字符串。"
   ]
  },
  {
   "cell_type": "code",
   "execution_count": 5,
   "metadata": {},
   "outputs": [
    {
     "name": "stdout",
     "output_type": "stream",
     "text": [
      "Hello World! Ethanwhh\n"
     ]
    }
   ],
   "source": [
    "var1 = 'Hello World!'\n",
    "var2 = \"Ethanwhh\"\n",
    "print (var1,var2)"
   ]
  },
  {
   "cell_type": "markdown",
   "metadata": {},
   "source": [
    "## 访问字符串中的值"
   ]
  },
  {
   "cell_type": "code",
   "execution_count": 1,
   "metadata": {},
   "outputs": [
    {
     "name": "stdout",
     "output_type": "stream",
     "text": [
      "var1[0]:  H\n",
      "var2[1:5]:  than\n"
     ]
    }
   ],
   "source": [
    "var1 = \"Hello World!\"\n",
    "var2 = \"Ethanwhh\"\n",
    "\n",
    "print(\"var1[0]: \", var1[0])\n",
    "print(\"var2[1:5]: \", var2[1:5])"
   ]
  },
  {
   "cell_type": "markdown",
   "metadata": {},
   "source": [
    "## 字符串更新"
   ]
  },
  {
   "cell_type": "code",
   "execution_count": 1,
   "metadata": {},
   "outputs": [
    {
     "name": "stdout",
     "output_type": "stream",
     "text": [
      "已更新字符串 :  Hello Ethanwhh!\n"
     ]
    }
   ],
   "source": [
    "var1 = \"Hello World!\"\n",
    "\n",
    "print(\"已更新字符串 : \", var1[:6] + \"Ethanwhh!\")"
   ]
  },
  {
   "cell_type": "markdown",
   "metadata": {},
   "source": [
    "## 转义字符"
   ]
  },
  {
   "cell_type": "code",
   "execution_count": null,
   "metadata": {},
   "outputs": [
    {
     "name": "stdout",
     "output_type": "stream",
     "text": [
      "100% "
     ]
    }
   ],
   "source": [
    "#使用 \\r 实现百分比进度\n",
    "import time\n",
    "\n",
    "for i in range(101):\n",
    "    print(\"\\r{:3}%\".format(i), end=\" \")\n",
    "    time.sleep(0.05)"
   ]
  },
  {
   "cell_type": "code",
   "execution_count": 3,
   "metadata": {},
   "outputs": [
    {
     "name": "stdout",
     "output_type": "stream",
     "text": [
      "'Hello, world!'\n",
      "Hello, world!\n",
      "How are you?\n",
      "Hello, world!\tHow are you?\n",
      "Hello world!\n",
      "Hello,\f world!\n",
      "A 对应的 ASCII 值为： 65\n",
      "A 为 A 的 ASCII 代码\n",
      "转换为二进制: 0b101010\n",
      "转换为八进制: 0o52\n",
      "转换为十六进制: 0x2a\n"
     ]
    }
   ],
   "source": [
    "print(\"'Hello, world!'\")  # 输出：'Hello, world!'\n",
    "\n",
    "print(\"Hello, world!\\nHow are you?\")  # 输出：Hello, world!\n",
    "#       How are you?\n",
    "\n",
    "print(\"Hello, world!\\tHow are you?\")  # 输出：Hello, world!    How are you?\n",
    "\n",
    "print(\"Hello,\\b world!\")  # 输出：Hello world!\n",
    "\n",
    "print(\"Hello,\\f world!\")  # 输出：\n",
    "# Hello,\n",
    "#  world!\n",
    "\n",
    "print(\"A 对应的 ASCII 值为：\", ord(\"A\"))  # 输出：A 对应的 ASCII 值为： 65\n",
    "\n",
    "print(\"\\x41 为 A 的 ASCII 代码\")  # 输出：A 为 A 的 ASCII 代码\n",
    "\n",
    "decimal_number = 42\n",
    "binary_number = bin(decimal_number)  # 十进制转换为二进制\n",
    "print(\"转换为二进制:\", binary_number)  # 转换为二进制: 0b101010\n",
    "\n",
    "octal_number = oct(decimal_number)  # 十进制转换为八进制\n",
    "print(\"转换为八进制:\", octal_number)  # 转换为八进制: 0o52\n",
    "\n",
    "hexadecimal_number = hex(decimal_number)  # 十进制转换为十六进制\n",
    "print(\"转换为十六进制:\", hexadecimal_number)  # 转换为十六进制: 0x2a"
   ]
  },
  {
   "cell_type": "markdown",
   "metadata": {},
   "source": [
    "## 字符串运算符"
   ]
  },
  {
   "cell_type": "code",
   "execution_count": 4,
   "metadata": {},
   "outputs": [
    {
     "name": "stdout",
     "output_type": "stream",
     "text": [
      "a + b 输出结果： HelloPython\n",
      "a * 2 输出结果： HelloHello\n",
      "a[1] 输出结果： e\n",
      "a[1:4] 输出结果： ell\n",
      "H 在变量 a 中\n",
      "M 不在变量 a 中\n",
      "\\n\n",
      "\\n\n"
     ]
    }
   ],
   "source": [
    "a = \"Hello\"\n",
    "b = \"Python\"\n",
    "\n",
    "print(\"a + b 输出结果：\", a + b)\n",
    "print(\"a * 2 输出结果：\", a * 2)\n",
    "print(\"a[1] 输出结果：\", a[1])\n",
    "print(\"a[1:4] 输出结果：\", a[1:4])\n",
    "\n",
    "if \"H\" in a:\n",
    "    print(\"H 在变量 a 中\")\n",
    "else:\n",
    "    print(\"H 不在变量 a 中\")\n",
    "\n",
    "if \"M\" not in a:\n",
    "    print(\"M 不在变量 a 中\")\n",
    "else:\n",
    "    print(\"M 在变量 a 中\")\n",
    "\n",
    "print(r\"\\n\")\n",
    "print(R\"\\n\")"
   ]
  },
  {
   "cell_type": "markdown",
   "metadata": {},
   "source": [
    "## 字符串格式化"
   ]
  },
  {
   "cell_type": "code",
   "execution_count": 5,
   "metadata": {},
   "outputs": [
    {
     "name": "stdout",
     "output_type": "stream",
     "text": [
      "我叫 小明 今年 10 岁!\n"
     ]
    }
   ],
   "source": [
    "print(\"我叫 %s 今年 %d 岁!\" % (\"小明\", 10))"
   ]
  },
  {
   "cell_type": "markdown",
   "metadata": {},
   "source": [
    "字符串格式化符号 \n",
    " - %c\t 格式化字符及其ASCII码\n",
    "\n",
    " - %s\t 格式化字符串\n",
    "\n",
    " - %d\t 格式化整数\n",
    "\n",
    " - %u\t 格式化无符号整型\n",
    "\n",
    " - %o\t 格式化无符号八进制数\n",
    "\n",
    " - %x\t 格式化无符号十六进制数\n",
    "\n",
    " - %X\t 格式化无符号十六进制数（大写）\n",
    "\n",
    " - %f\t 格式化浮点数字，可指定小数点后的精度\n",
    "\n",
    " - %e\t 用科学计数法格式化浮点数\n",
    "\n",
    " - %E\t 作用同%e，用科学计数法格式化浮点数\n",
    "\n",
    " - %g\t %f和%e的简写\n",
    "\n",
    " - %G\t %f 和 %E 的简写\n",
    " \n",
    " - %p\t 用十六进制数格式化变量的地址"
   ]
  },
  {
   "cell_type": "markdown",
   "metadata": {},
   "source": [
    "## 字符串内建函数"
   ]
  },
  {
   "cell_type": "code",
   "execution_count": 13,
   "metadata": {},
   "outputs": [
    {
     "name": "stdout",
     "output_type": "stream",
     "text": [
      "str.capitalize() :  This is string example from ethanwhh!!!\n",
      "str.center(40, '*') :  ***************[Ethanwhh]***************\n",
      "str.count('h') :  4\n",
      "str.count('whh', 0, 10) :  1\n",
      "True\n",
      "False\n",
      "E-t-h-a-n-w-h-h\n",
      "Ethanwhh\n"
     ]
    }
   ],
   "source": [
    "str = \"this is string Example From Ethanwhh!!!\"\n",
    "print(\"str.capitalize() : \", str.capitalize())\n",
    "\n",
    "str = \"[Ethanwhh]\"\n",
    "print(\"str.center(40, '*') : \", str.center(40, \"*\"))\n",
    "\n",
    "str = \"Ethanwhh.github.io\"\n",
    "sub = \"h\"\n",
    "print(\"str.count('h') : \", str.count(sub))\n",
    "sub = \"whh\"\n",
    "print(\"str.count('whh', 0, 10) : \", str.count(sub, 0, 10))\n",
    "\n",
    "str = \"Ethanwhh2024\"  # 字符串没有空格\n",
    "print(str.isalnum())\n",
    "str = \"Ethanwhh.github.io\"\n",
    "print(str.isalnum())\n",
    "\n",
    "s1 = \"-\"\n",
    "s2 = \"\"\n",
    "seq = (\"E\", \"t\", \"h\", \"a\", \"n\", \"w\", \"h\", \"h\")  # 字符串序列\n",
    "print(s1.join(seq))\n",
    "print(s2.join(seq))"
   ]
  }
 ],
 "metadata": {
  "kernelspec": {
   "display_name": "base",
   "language": "python",
   "name": "python3"
  },
  "language_info": {
   "codemirror_mode": {
    "name": "ipython",
    "version": 3
   },
   "file_extension": ".py",
   "mimetype": "text/x-python",
   "name": "python",
   "nbconvert_exporter": "python",
   "pygments_lexer": "ipython3",
   "version": "3.9.13"
  }
 },
 "nbformat": 4,
 "nbformat_minor": 2
}
